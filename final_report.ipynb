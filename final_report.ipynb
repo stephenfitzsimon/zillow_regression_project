{
 "cells": [
  {
   "cell_type": "markdown",
   "id": "e60fcd72",
   "metadata": {},
   "source": [
    "# Predicting Property Prices From Zillow Data\n",
    "\n",
    "## Key Takeaways\n",
    "\n",
    "- Major factors determining property price are:\n",
    "    - square feet\n",
    "    - number of bathrooms/bedrooms\n",
    "    - year built\n",
    "\n",
    "\n",
    "## Contents <a name='contents'></a>\n",
    "\n",
    "*Note: the following links will only work on local copies of this notebook.*\n",
    "\n",
    "1. <a href='#introduction'>Introduction</a>\n",
    "2. <a href='#wrangle'>Wrangle Data</a>\n",
    "    1. <a href='#acquire'>Acquire the Data</a>\n",
    "    2. <a href='#prepare'>Prepare and Clean the Data</a>\n",
    "3. <a href='#explore'>Explore Data</a>\n",
    "    1. <a href='#hypothesis1'>Are `calculatedfinishedsquarefeet` and `taxvaluedollarcnt` related?</a>\n",
    "    2. <a href='#hypothesis2'>What is the connection between `bedroomcnt`, `bathroomcnt` and `taxvaluedollarcnt`?</a>\n",
    "    \n",
    "The following modules are used in this notebook:"
   ]
  },
  {
   "cell_type": "code",
   "execution_count": 1,
   "id": "fe3aee05",
   "metadata": {},
   "outputs": [],
   "source": [
    "import pandas as pd\n",
    "import matplotlib.pyplot as plt\n",
    "import seaborn as sns\n",
    "\n",
    "import wrangle\n",
    "import explore"
   ]
  },
  {
   "cell_type": "markdown",
   "id": "9fd9371b",
   "metadata": {},
   "source": [
    "## Introduction <a name='introduction'></a>\n",
    "\n",
    "Zillow data was pulled from the database, and analyzed to determine which features can best determine the property value of a house.  This project is divided into three parts: wrangle, explore, and model.  Wrangle explains how the data is acquired and prepared for analysis and processing.  Explore looks at the data and applies visualization and hypothesis testing to discover drivers of the property value.  Finally, model builds a linear regression model to predict property values from the data. Each section and select subsections include a short list of key takeaways; these are followed by a discussion detailing the analysis choices made that are relevant to that (sub)section.\n",
    "\n",
    "### Goals\n",
    "- Test at least four drivers of the property value, so that the data and the model predictions can be better understood\n",
    "- Wrangle data to prepare it for analysis, so that the data pulled in the future can be wrangled in a similar manner\n",
    "- Build a model that beat the baseline models, so that Zillow can display information to the users of its website\n",
    "- Include a report for future reference so that this project can be built upon in the future\n",
    "\n",
    "### Project Plan\n",
    "- Explore at least four variables of property prices\n",
    "- Visualize variables\n",
    "- Hypothesis test at least two variables\n",
    "- Write this final report\n",
    "- Python scripts that allow for the project to be reproducible\n",
    "\n",
    "<a href='#contents'>Back to contents</a>\n",
    "\n",
    "## Wrangle Data <a name='wrangle'></a>\n",
    "\n",
    "#### Key Wrangle  Takeaways\n",
    "\n",
    "- $\\approx0.98$ of the data is retained or the original 52,441 rows\n",
    "- 10 of the 59 rows are retained\n",
    "- Data is acquired from the SQL database\n",
    "- Any column with $> 0.01$ of nulls is dropped\n",
    "- Redundant and innaccurate columns with significant missing data are removed\n",
    "- Extreme outliers are removed from the data; this was determined based off of the typical customer of Zillow.\n",
    "- Any remaining null valued rows are dropped\n",
    "\n",
    "<a href='#contents'>Back to contents</a>\n",
    "\n",
    "### Acquire the data <a name='acquire'></a>\n",
    "\n",
    "#### Key Acquire Takeaways\n",
    "\n",
    "- `wrangle.get_zillow_data()` is used to get the data from the database.\n",
    "- 58 columns and 52441 rows are imported from the data\n",
    "\n",
    "#### Discussion\n",
    "\n",
    "Below the data is acquired via the `wrangle.get_zillow_data()` function. This function will query the SQL database, unless there is a saved .csv file present in the current directory.  The name of the file is set by the `wrangle.FILENAME` constant. This function has the following parameters:\n",
    "- `query_db = False` (bool) : forces a query to the SQL database even if the .csv file is present."
   ]
  },
  {
   "cell_type": "code",
   "execution_count": 2,
   "id": "10c35f4f",
   "metadata": {},
   "outputs": [
    {
     "name": "stdout",
     "output_type": "stream",
     "text": [
      "Returning saved csv file.\n"
     ]
    },
    {
     "data": {
      "text/html": [
       "<div>\n",
       "<style scoped>\n",
       "    .dataframe tbody tr th:only-of-type {\n",
       "        vertical-align: middle;\n",
       "    }\n",
       "\n",
       "    .dataframe tbody tr th {\n",
       "        vertical-align: top;\n",
       "    }\n",
       "\n",
       "    .dataframe thead th {\n",
       "        text-align: right;\n",
       "    }\n",
       "</style>\n",
       "<table border=\"1\" class=\"dataframe\">\n",
       "  <thead>\n",
       "    <tr style=\"text-align: right;\">\n",
       "      <th></th>\n",
       "      <th>id</th>\n",
       "      <th>parcelid</th>\n",
       "      <th>airconditioningtypeid</th>\n",
       "      <th>architecturalstyletypeid</th>\n",
       "      <th>basementsqft</th>\n",
       "      <th>bathroomcnt</th>\n",
       "      <th>bedroomcnt</th>\n",
       "      <th>buildingclasstypeid</th>\n",
       "      <th>buildingqualitytypeid</th>\n",
       "      <th>calculatedbathnbr</th>\n",
       "      <th>...</th>\n",
       "      <th>numberofstories</th>\n",
       "      <th>fireplaceflag</th>\n",
       "      <th>structuretaxvaluedollarcnt</th>\n",
       "      <th>taxvaluedollarcnt</th>\n",
       "      <th>assessmentyear</th>\n",
       "      <th>landtaxvaluedollarcnt</th>\n",
       "      <th>taxamount</th>\n",
       "      <th>taxdelinquencyflag</th>\n",
       "      <th>taxdelinquencyyear</th>\n",
       "      <th>censustractandblock</th>\n",
       "    </tr>\n",
       "  </thead>\n",
       "  <tbody>\n",
       "    <tr>\n",
       "      <th>14611</th>\n",
       "      <td>1409786</td>\n",
       "      <td>12499944</td>\n",
       "      <td>1.0</td>\n",
       "      <td>NaN</td>\n",
       "      <td>NaN</td>\n",
       "      <td>2.0</td>\n",
       "      <td>2.0</td>\n",
       "      <td>NaN</td>\n",
       "      <td>6.0</td>\n",
       "      <td>2.0</td>\n",
       "      <td>...</td>\n",
       "      <td>NaN</td>\n",
       "      <td>NaN</td>\n",
       "      <td>97000.0</td>\n",
       "      <td>485000.0</td>\n",
       "      <td>2016.0</td>\n",
       "      <td>388000.0</td>\n",
       "      <td>5788.09</td>\n",
       "      <td>NaN</td>\n",
       "      <td>NaN</td>\n",
       "      <td>6.037572e+13</td>\n",
       "    </tr>\n",
       "    <tr>\n",
       "      <th>39161</th>\n",
       "      <td>2307312</td>\n",
       "      <td>13981980</td>\n",
       "      <td>NaN</td>\n",
       "      <td>NaN</td>\n",
       "      <td>NaN</td>\n",
       "      <td>3.0</td>\n",
       "      <td>4.0</td>\n",
       "      <td>NaN</td>\n",
       "      <td>NaN</td>\n",
       "      <td>3.0</td>\n",
       "      <td>...</td>\n",
       "      <td>2.0</td>\n",
       "      <td>NaN</td>\n",
       "      <td>245358.0</td>\n",
       "      <td>1485455.0</td>\n",
       "      <td>2016.0</td>\n",
       "      <td>1240097.0</td>\n",
       "      <td>16027.02</td>\n",
       "      <td>NaN</td>\n",
       "      <td>NaN</td>\n",
       "      <td>6.059063e+13</td>\n",
       "    </tr>\n",
       "    <tr>\n",
       "      <th>41558</th>\n",
       "      <td>459420</td>\n",
       "      <td>14245030</td>\n",
       "      <td>13.0</td>\n",
       "      <td>NaN</td>\n",
       "      <td>NaN</td>\n",
       "      <td>2.5</td>\n",
       "      <td>4.0</td>\n",
       "      <td>NaN</td>\n",
       "      <td>NaN</td>\n",
       "      <td>2.5</td>\n",
       "      <td>...</td>\n",
       "      <td>1.0</td>\n",
       "      <td>NaN</td>\n",
       "      <td>143438.0</td>\n",
       "      <td>749000.0</td>\n",
       "      <td>2016.0</td>\n",
       "      <td>605562.0</td>\n",
       "      <td>8419.16</td>\n",
       "      <td>NaN</td>\n",
       "      <td>NaN</td>\n",
       "      <td>6.059076e+13</td>\n",
       "    </tr>\n",
       "  </tbody>\n",
       "</table>\n",
       "<p>3 rows × 59 columns</p>\n",
       "</div>"
      ],
      "text/plain": [
       "            id  parcelid  airconditioningtypeid  architecturalstyletypeid  \\\n",
       "14611  1409786  12499944                    1.0                       NaN   \n",
       "39161  2307312  13981980                    NaN                       NaN   \n",
       "41558   459420  14245030                   13.0                       NaN   \n",
       "\n",
       "       basementsqft  bathroomcnt  bedroomcnt  buildingclasstypeid  \\\n",
       "14611           NaN          2.0         2.0                  NaN   \n",
       "39161           NaN          3.0         4.0                  NaN   \n",
       "41558           NaN          2.5         4.0                  NaN   \n",
       "\n",
       "       buildingqualitytypeid  calculatedbathnbr  ...  numberofstories  \\\n",
       "14611                    6.0                2.0  ...              NaN   \n",
       "39161                    NaN                3.0  ...              2.0   \n",
       "41558                    NaN                2.5  ...              1.0   \n",
       "\n",
       "       fireplaceflag  structuretaxvaluedollarcnt  taxvaluedollarcnt  \\\n",
       "14611            NaN                     97000.0           485000.0   \n",
       "39161            NaN                    245358.0          1485455.0   \n",
       "41558            NaN                    143438.0           749000.0   \n",
       "\n",
       "       assessmentyear  landtaxvaluedollarcnt  taxamount  taxdelinquencyflag  \\\n",
       "14611          2016.0               388000.0    5788.09                 NaN   \n",
       "39161          2016.0              1240097.0   16027.02                 NaN   \n",
       "41558          2016.0               605562.0    8419.16                 NaN   \n",
       "\n",
       "       taxdelinquencyyear  censustractandblock  \n",
       "14611                 NaN         6.037572e+13  \n",
       "39161                 NaN         6.059063e+13  \n",
       "41558                 NaN         6.059076e+13  \n",
       "\n",
       "[3 rows x 59 columns]"
      ]
     },
     "execution_count": 2,
     "metadata": {},
     "output_type": "execute_result"
    }
   ],
   "source": [
    "df = wrangle.get_zillow_data() #acquire database via the database or saved .csv file\n",
    "df.sample(3) #display three lines of the data"
   ]
  },
  {
   "cell_type": "markdown",
   "id": "d32df4fa",
   "metadata": {},
   "source": [
    "Determine the shape of the dataframe.  This tuple will be used later to calculate the percent of data retained after cleaning."
   ]
  },
  {
   "cell_type": "code",
   "execution_count": 3,
   "id": "a1e132fc",
   "metadata": {},
   "outputs": [
    {
     "data": {
      "text/plain": [
       "(52441, 59)"
      ]
     },
     "execution_count": 3,
     "metadata": {},
     "output_type": "execute_result"
    }
   ],
   "source": [
    "original_shape = df.shape #get the shape attribute of the dataframe\n",
    "original_shape # display the variable contents"
   ]
  },
  {
   "cell_type": "markdown",
   "id": "4ce01d6d",
   "metadata": {},
   "source": [
    "In order to determine the extent of missing data, `wrangle.return_col_percent_null()` is used. The function has the followng parameters:\n",
    "- `df` (DataFrame) : a dataframe containing the Zillow data\n",
    "\n",
    "This function will return a dataframe with the following columns:\n",
    "- `column_name` : The name of the column of the relevant column of `df`\n",
    "- `percent_null` : The percent of rows in the `column_name` column of `df` that are null values\n",
    "- `count_null` : The total number of null values in the `column_name` column of `df`\n",
    "\n",
    "The output of the function is as follows."
   ]
  },
  {
   "cell_type": "code",
   "execution_count": 20,
   "id": "6781c784",
   "metadata": {},
   "outputs": [
    {
     "data": {
      "text/html": [
       "<div>\n",
       "<style scoped>\n",
       "    .dataframe tbody tr th:only-of-type {\n",
       "        vertical-align: middle;\n",
       "    }\n",
       "\n",
       "    .dataframe tbody tr th {\n",
       "        vertical-align: top;\n",
       "    }\n",
       "\n",
       "    .dataframe thead th {\n",
       "        text-align: right;\n",
       "    }\n",
       "</style>\n",
       "<table border=\"1\" class=\"dataframe\">\n",
       "  <thead>\n",
       "    <tr style=\"text-align: right;\">\n",
       "      <th></th>\n",
       "      <th>column_name</th>\n",
       "      <th>percent_null</th>\n",
       "      <th>count_null</th>\n",
       "    </tr>\n",
       "  </thead>\n",
       "  <tbody>\n",
       "    <tr>\n",
       "      <th>6</th>\n",
       "      <td>lotsizesquarefeet</td>\n",
       "      <td>0.0</td>\n",
       "      <td>0</td>\n",
       "    </tr>\n",
       "    <tr>\n",
       "      <th>1</th>\n",
       "      <td>bathroomcnt</td>\n",
       "      <td>0.0</td>\n",
       "      <td>0</td>\n",
       "    </tr>\n",
       "    <tr>\n",
       "      <th>9</th>\n",
       "      <td>county</td>\n",
       "      <td>0.0</td>\n",
       "      <td>0</td>\n",
       "    </tr>\n",
       "  </tbody>\n",
       "</table>\n",
       "</div>"
      ],
      "text/plain": [
       "         column_name  percent_null  count_null\n",
       "6  lotsizesquarefeet           0.0           0\n",
       "1        bathroomcnt           0.0           0\n",
       "9             county           0.0           0"
      ]
     },
     "execution_count": 20,
     "metadata": {},
     "output_type": "execute_result"
    }
   ],
   "source": [
    "null_proportion_df = wrangle.return_col_percent_null(df) #call the custom function\n",
    "null_proportion_df.sample(3) #display the dataframe"
   ]
  },
  {
   "cell_type": "markdown",
   "id": "a2cd61e6",
   "metadata": {},
   "source": [
    "<a href='#contents'>Back to contents</a>\n",
    "\n",
    "### Prepare and Clean the Data <a name='prepare'></a>\n",
    "\n",
    "#### Key Prepare and Clean Takeaways\n",
    "- $\\approx0.98$ of the data is retained\n",
    "- Columns with high percentage of nulls are dropped\n",
    "- Redundant and innacurate data is also dropped\n",
    "- Extreme outliers and remaining null valued rows are dropped\n",
    "- `fips` values are converted to equivalent county names\n",
    "- `latitude` and `longitude` are made into correct values\n",
    "\n",
    "Consider the columns that have greater tha $0.01$ of the rows having null values. Because there is significant data missing, all of these columns will be dropped.  Note, however, that some of these columns do have the majority of their data.  These columns could be used in a future analysis, see the <a href='#conclusion'>conclusion</a> for more discussion. The `null_proportion_df` is used to display these columns."
   ]
  },
  {
   "cell_type": "code",
   "execution_count": 5,
   "id": "e8f1b26d",
   "metadata": {
    "scrolled": false
   },
   "outputs": [
    {
     "data": {
      "text/html": [
       "<div>\n",
       "<style scoped>\n",
       "    .dataframe tbody tr th:only-of-type {\n",
       "        vertical-align: middle;\n",
       "    }\n",
       "\n",
       "    .dataframe tbody tr th {\n",
       "        vertical-align: top;\n",
       "    }\n",
       "\n",
       "    .dataframe thead th {\n",
       "        text-align: right;\n",
       "    }\n",
       "</style>\n",
       "<table border=\"1\" class=\"dataframe\">\n",
       "  <thead>\n",
       "    <tr style=\"text-align: right;\">\n",
       "      <th></th>\n",
       "      <th>column_name</th>\n",
       "      <th>percent_null</th>\n",
       "      <th>count_null</th>\n",
       "    </tr>\n",
       "  </thead>\n",
       "  <tbody>\n",
       "    <tr>\n",
       "      <th>2</th>\n",
       "      <td>airconditioningtypeid</td>\n",
       "      <td>0.7399</td>\n",
       "      <td>38803</td>\n",
       "    </tr>\n",
       "    <tr>\n",
       "      <th>3</th>\n",
       "      <td>architecturalstyletypeid</td>\n",
       "      <td>0.9987</td>\n",
       "      <td>52371</td>\n",
       "    </tr>\n",
       "    <tr>\n",
       "      <th>4</th>\n",
       "      <td>basementsqft</td>\n",
       "      <td>0.9991</td>\n",
       "      <td>52394</td>\n",
       "    </tr>\n",
       "    <tr>\n",
       "      <th>7</th>\n",
       "      <td>buildingclasstypeid</td>\n",
       "      <td>1.0000</td>\n",
       "      <td>52441</td>\n",
       "    </tr>\n",
       "    <tr>\n",
       "      <th>8</th>\n",
       "      <td>buildingqualitytypeid</td>\n",
       "      <td>0.3566</td>\n",
       "      <td>18701</td>\n",
       "    </tr>\n",
       "    <tr>\n",
       "      <th>10</th>\n",
       "      <td>decktypeid</td>\n",
       "      <td>0.9926</td>\n",
       "      <td>52052</td>\n",
       "    </tr>\n",
       "    <tr>\n",
       "      <th>11</th>\n",
       "      <td>finishedfloor1squarefeet</td>\n",
       "      <td>0.9165</td>\n",
       "      <td>48060</td>\n",
       "    </tr>\n",
       "    <tr>\n",
       "      <th>14</th>\n",
       "      <td>finishedsquarefeet13</td>\n",
       "      <td>1.0000</td>\n",
       "      <td>52441</td>\n",
       "    </tr>\n",
       "    <tr>\n",
       "      <th>15</th>\n",
       "      <td>finishedsquarefeet15</td>\n",
       "      <td>1.0000</td>\n",
       "      <td>52441</td>\n",
       "    </tr>\n",
       "    <tr>\n",
       "      <th>16</th>\n",
       "      <td>finishedsquarefeet50</td>\n",
       "      <td>0.9165</td>\n",
       "      <td>48060</td>\n",
       "    </tr>\n",
       "    <tr>\n",
       "      <th>17</th>\n",
       "      <td>finishedsquarefeet6</td>\n",
       "      <td>0.9969</td>\n",
       "      <td>52276</td>\n",
       "    </tr>\n",
       "    <tr>\n",
       "      <th>19</th>\n",
       "      <td>fireplacecnt</td>\n",
       "      <td>0.8619</td>\n",
       "      <td>45198</td>\n",
       "    </tr>\n",
       "    <tr>\n",
       "      <th>21</th>\n",
       "      <td>garagecarcnt</td>\n",
       "      <td>0.6565</td>\n",
       "      <td>34426</td>\n",
       "    </tr>\n",
       "    <tr>\n",
       "      <th>22</th>\n",
       "      <td>garagetotalsqft</td>\n",
       "      <td>0.6565</td>\n",
       "      <td>34426</td>\n",
       "    </tr>\n",
       "    <tr>\n",
       "      <th>23</th>\n",
       "      <td>hashottuborspa</td>\n",
       "      <td>0.9711</td>\n",
       "      <td>50926</td>\n",
       "    </tr>\n",
       "    <tr>\n",
       "      <th>24</th>\n",
       "      <td>heatingorsystemtypeid</td>\n",
       "      <td>0.3529</td>\n",
       "      <td>18506</td>\n",
       "    </tr>\n",
       "    <tr>\n",
       "      <th>28</th>\n",
       "      <td>poolcnt</td>\n",
       "      <td>0.7884</td>\n",
       "      <td>41345</td>\n",
       "    </tr>\n",
       "    <tr>\n",
       "      <th>29</th>\n",
       "      <td>poolsizesum</td>\n",
       "      <td>0.9835</td>\n",
       "      <td>51574</td>\n",
       "    </tr>\n",
       "    <tr>\n",
       "      <th>30</th>\n",
       "      <td>pooltypeid10</td>\n",
       "      <td>0.9915</td>\n",
       "      <td>51997</td>\n",
       "    </tr>\n",
       "    <tr>\n",
       "      <th>31</th>\n",
       "      <td>pooltypeid2</td>\n",
       "      <td>0.9796</td>\n",
       "      <td>51370</td>\n",
       "    </tr>\n",
       "    <tr>\n",
       "      <th>32</th>\n",
       "      <td>pooltypeid7</td>\n",
       "      <td>0.8091</td>\n",
       "      <td>42432</td>\n",
       "    </tr>\n",
       "    <tr>\n",
       "      <th>35</th>\n",
       "      <td>propertyzoningdesc</td>\n",
       "      <td>0.3546</td>\n",
       "      <td>18593</td>\n",
       "    </tr>\n",
       "    <tr>\n",
       "      <th>37</th>\n",
       "      <td>regionidcity</td>\n",
       "      <td>0.0198</td>\n",
       "      <td>1037</td>\n",
       "    </tr>\n",
       "    <tr>\n",
       "      <th>39</th>\n",
       "      <td>regionidneighborhood</td>\n",
       "      <td>0.6371</td>\n",
       "      <td>33408</td>\n",
       "    </tr>\n",
       "    <tr>\n",
       "      <th>42</th>\n",
       "      <td>storytypeid</td>\n",
       "      <td>0.9991</td>\n",
       "      <td>52394</td>\n",
       "    </tr>\n",
       "    <tr>\n",
       "      <th>43</th>\n",
       "      <td>threequarterbathnbr</td>\n",
       "      <td>0.8718</td>\n",
       "      <td>45717</td>\n",
       "    </tr>\n",
       "    <tr>\n",
       "      <th>44</th>\n",
       "      <td>typeconstructiontypeid</td>\n",
       "      <td>0.9986</td>\n",
       "      <td>52365</td>\n",
       "    </tr>\n",
       "    <tr>\n",
       "      <th>45</th>\n",
       "      <td>unitcnt</td>\n",
       "      <td>0.3546</td>\n",
       "      <td>18594</td>\n",
       "    </tr>\n",
       "    <tr>\n",
       "      <th>46</th>\n",
       "      <td>yardbuildingsqft17</td>\n",
       "      <td>0.9631</td>\n",
       "      <td>50504</td>\n",
       "    </tr>\n",
       "    <tr>\n",
       "      <th>47</th>\n",
       "      <td>yardbuildingsqft26</td>\n",
       "      <td>0.9988</td>\n",
       "      <td>52378</td>\n",
       "    </tr>\n",
       "    <tr>\n",
       "      <th>49</th>\n",
       "      <td>numberofstories</td>\n",
       "      <td>0.7223</td>\n",
       "      <td>37880</td>\n",
       "    </tr>\n",
       "    <tr>\n",
       "      <th>50</th>\n",
       "      <td>fireplaceflag</td>\n",
       "      <td>0.9985</td>\n",
       "      <td>52360</td>\n",
       "    </tr>\n",
       "    <tr>\n",
       "      <th>56</th>\n",
       "      <td>taxdelinquencyflag</td>\n",
       "      <td>0.9604</td>\n",
       "      <td>50362</td>\n",
       "    </tr>\n",
       "    <tr>\n",
       "      <th>57</th>\n",
       "      <td>taxdelinquencyyear</td>\n",
       "      <td>0.9604</td>\n",
       "      <td>50362</td>\n",
       "    </tr>\n",
       "  </tbody>\n",
       "</table>\n",
       "</div>"
      ],
      "text/plain": [
       "                 column_name  percent_null  count_null\n",
       "2      airconditioningtypeid        0.7399       38803\n",
       "3   architecturalstyletypeid        0.9987       52371\n",
       "4               basementsqft        0.9991       52394\n",
       "7        buildingclasstypeid        1.0000       52441\n",
       "8      buildingqualitytypeid        0.3566       18701\n",
       "10                decktypeid        0.9926       52052\n",
       "11  finishedfloor1squarefeet        0.9165       48060\n",
       "14      finishedsquarefeet13        1.0000       52441\n",
       "15      finishedsquarefeet15        1.0000       52441\n",
       "16      finishedsquarefeet50        0.9165       48060\n",
       "17       finishedsquarefeet6        0.9969       52276\n",
       "19              fireplacecnt        0.8619       45198\n",
       "21              garagecarcnt        0.6565       34426\n",
       "22           garagetotalsqft        0.6565       34426\n",
       "23            hashottuborspa        0.9711       50926\n",
       "24     heatingorsystemtypeid        0.3529       18506\n",
       "28                   poolcnt        0.7884       41345\n",
       "29               poolsizesum        0.9835       51574\n",
       "30              pooltypeid10        0.9915       51997\n",
       "31               pooltypeid2        0.9796       51370\n",
       "32               pooltypeid7        0.8091       42432\n",
       "35        propertyzoningdesc        0.3546       18593\n",
       "37              regionidcity        0.0198        1037\n",
       "39      regionidneighborhood        0.6371       33408\n",
       "42               storytypeid        0.9991       52394\n",
       "43       threequarterbathnbr        0.8718       45717\n",
       "44    typeconstructiontypeid        0.9986       52365\n",
       "45                   unitcnt        0.3546       18594\n",
       "46        yardbuildingsqft17        0.9631       50504\n",
       "47        yardbuildingsqft26        0.9988       52378\n",
       "49           numberofstories        0.7223       37880\n",
       "50             fireplaceflag        0.9985       52360\n",
       "56        taxdelinquencyflag        0.9604       50362\n",
       "57        taxdelinquencyyear        0.9604       50362"
      ]
     },
     "execution_count": 5,
     "metadata": {},
     "output_type": "execute_result"
    }
   ],
   "source": [
    "null_proportion_df[null_proportion_df.percent_null > 0.01]"
   ]
  },
  {
   "cell_type": "markdown",
   "id": "7635b5bd",
   "metadata": {},
   "source": [
    "Some of the remaining columns contain significant outliers. These can be dropped Consider the following columns:\n",
    "- `bathroomcnt` : Most houses for Zillow users will have at most 6 bathrooms; any rows with more than 6 bathrooms are dropped.  In addition, any row that reports no bathrooms is dropped\n",
    "- `bedroomcnt` : Similar to the number of bathrooms, any rows with no bedrooms or more than 6 bedrooms is dropped.  A typical homebuyer will not have more than 6 bedrooms.\n",
    "- `calculatedfinishedsquarefeet` : Houses with less than 150 square feet or more than 6000 square feet are excluded from the analysis. Most of the rows are much smaller than this, and a typical user will not be interested in this type of house.\n",
    "- `lotsizesquarefeet` : Any lot that is over 5 acres is excluded.  Most houses are on lots a fifth of the size.\n",
    "\n",
    "Note that this continues to leave a significant number of outliers in the dataset; however, these provide more \"mainstream\" customers.\n",
    "\n",
    "The following boxplots show the extent of these outliers:"
   ]
  },
  {
   "cell_type": "code",
   "execution_count": 6,
   "id": "e5566374",
   "metadata": {
    "scrolled": false
   },
   "outputs": [
    {
     "data": {
      "image/png": "[encoded data removed]",
      "text/plain": [
       "<Figure size 1080x216 with 1 Axes>"
      ]
     },
     "metadata": {
      "needs_background": "light"
     },
     "output_type": "display_data"
    },
    {
     "data": {
      "image/png": "[encoded data removed]",
      "text/plain": [
       "<Figure size 1080x216 with 1 Axes>"
      ]
     },
     "metadata": {
      "needs_background": "light"
     },
     "output_type": "display_data"
    },
    {
     "data": {
      "image/png": "[encoded data removed]",
      "text/plain": [
       "<Figure size 1080x216 with 1 Axes>"
      ]
     },
     "metadata": {
      "needs_background": "light"
     },
     "output_type": "display_data"
    },
    {
     "data": {
      "image/png": "[encoded data removed]",
      "text/plain": [
       "<Figure size 1080x216 with 1 Axes>"
      ]
     },
     "metadata": {
      "needs_background": "light"
     },
     "output_type": "display_data"
    }
   ],
   "source": [
    "#columns to plot\n",
    "columns_boxplot = ['bathroomcnt', 'bedroomcnt', 'calculatedfinishedsquarefeet', 'lotsizesquarefeet']\n",
    "for col in columns_boxplot:\n",
    "    #size the figure\n",
    "    plt.figure(figsize=(15,3))\n",
    "    #make a boxplot\n",
    "    sns.boxplot(x=col, data=df)\n",
    "    #label the boxplot\n",
    "    plt.xlabel(col)\n",
    "    #display the boxplot\n",
    "    plt.show()"
   ]
  },
  {
   "cell_type": "markdown",
   "id": "9687f2f0",
   "metadata": {},
   "source": [
    "The above information is also displayed in numeric form below."
   ]
  },
  {
   "cell_type": "code",
   "execution_count": 7,
   "id": "ebf266bb",
   "metadata": {
    "scrolled": true
   },
   "outputs": [
    {
     "data": {
      "text/html": [
       "<div>\n",
       "<style scoped>\n",
       "    .dataframe tbody tr th:only-of-type {\n",
       "        vertical-align: middle;\n",
       "    }\n",
       "\n",
       "    .dataframe tbody tr th {\n",
       "        vertical-align: top;\n",
       "    }\n",
       "\n",
       "    .dataframe thead th {\n",
       "        text-align: right;\n",
       "    }\n",
       "</style>\n",
       "<table border=\"1\" class=\"dataframe\">\n",
       "  <thead>\n",
       "    <tr style=\"text-align: right;\">\n",
       "      <th></th>\n",
       "      <th>bathroomcnt</th>\n",
       "      <th>bedroomcnt</th>\n",
       "      <th>calculatedfinishedsquarefeet</th>\n",
       "      <th>lotsizesquarefeet</th>\n",
       "    </tr>\n",
       "  </thead>\n",
       "  <tbody>\n",
       "    <tr>\n",
       "      <th>count</th>\n",
       "      <td>52441.000000</td>\n",
       "      <td>52441.000000</td>\n",
       "      <td>52359.000000</td>\n",
       "      <td>5.207200e+04</td>\n",
       "    </tr>\n",
       "    <tr>\n",
       "      <th>mean</th>\n",
       "      <td>2.299403</td>\n",
       "      <td>3.300681</td>\n",
       "      <td>1922.890754</td>\n",
       "      <td>1.133962e+04</td>\n",
       "    </tr>\n",
       "    <tr>\n",
       "      <th>std</th>\n",
       "      <td>1.022772</td>\n",
       "      <td>0.949094</td>\n",
       "      <td>1004.365838</td>\n",
       "      <td>8.674763e+04</td>\n",
       "    </tr>\n",
       "    <tr>\n",
       "      <th>min</th>\n",
       "      <td>0.000000</td>\n",
       "      <td>0.000000</td>\n",
       "      <td>128.000000</td>\n",
       "      <td>2.360000e+02</td>\n",
       "    </tr>\n",
       "    <tr>\n",
       "      <th>25%</th>\n",
       "      <td>2.000000</td>\n",
       "      <td>3.000000</td>\n",
       "      <td>1268.000000</td>\n",
       "      <td>5.583000e+03</td>\n",
       "    </tr>\n",
       "    <tr>\n",
       "      <th>50%</th>\n",
       "      <td>2.000000</td>\n",
       "      <td>3.000000</td>\n",
       "      <td>1659.000000</td>\n",
       "      <td>6.840500e+03</td>\n",
       "    </tr>\n",
       "    <tr>\n",
       "      <th>75%</th>\n",
       "      <td>3.000000</td>\n",
       "      <td>4.000000</td>\n",
       "      <td>2306.000000</td>\n",
       "      <td>8.798250e+03</td>\n",
       "    </tr>\n",
       "    <tr>\n",
       "      <th>max</th>\n",
       "      <td>18.000000</td>\n",
       "      <td>14.000000</td>\n",
       "      <td>21929.000000</td>\n",
       "      <td>6.971010e+06</td>\n",
       "    </tr>\n",
       "  </tbody>\n",
       "</table>\n",
       "</div>"
      ],
      "text/plain": [
       "        bathroomcnt    bedroomcnt  calculatedfinishedsquarefeet  \\\n",
       "count  52441.000000  52441.000000                  52359.000000   \n",
       "mean       2.299403      3.300681                   1922.890754   \n",
       "std        1.022772      0.949094                   1004.365838   \n",
       "min        0.000000      0.000000                    128.000000   \n",
       "25%        2.000000      3.000000                   1268.000000   \n",
       "50%        2.000000      3.000000                   1659.000000   \n",
       "75%        3.000000      4.000000                   2306.000000   \n",
       "max       18.000000     14.000000                  21929.000000   \n",
       "\n",
       "       lotsizesquarefeet  \n",
       "count       5.207200e+04  \n",
       "mean        1.133962e+04  \n",
       "std         8.674763e+04  \n",
       "min         2.360000e+02  \n",
       "25%         5.583000e+03  \n",
       "50%         6.840500e+03  \n",
       "75%         8.798250e+03  \n",
       "max         6.971010e+06  "
      ]
     },
     "execution_count": 7,
     "metadata": {},
     "output_type": "execute_result"
    }
   ],
   "source": [
    "df[columns_boxplot].describe() #describe the relevant columns"
   ]
  },
  {
   "cell_type": "markdown",
   "id": "95590bd5",
   "metadata": {},
   "source": [
    "Redundant data can also be dropped.  Consider the following columns:\n",
    "- `calculatedbathnbr` and `fullbathcnt`, the data can be calculated from the other two columns\n",
    "- `finishedsquarefeet12` is a repetition of `calculatedfinishedsquarefeet`\n",
    "- `assessmentyear` can calso be dropped as it is all the same value, 2016.\n",
    "- `rmcnt` contains significant missing values are can be inferred from the seemingly more reliable `bedroomcnt` and `bathroomcnt`\n",
    "\n",
    "As an illustration, consider the `rmcnt` column.  It should be at least the sum of `bathroomcnt` and `bedroomcnt`, but isn't always.  In $0.26$ of the rows the data is wrong, assuming the counts for `bathroomcnt` and `bedroomcnt` are accurate.  "
   ]
  },
  {
   "cell_type": "code",
   "execution_count": 8,
   "id": "29985504",
   "metadata": {},
   "outputs": [
    {
     "data": {
      "text/plain": [
       "0.2617608359871093"
      ]
     },
     "execution_count": 8,
     "metadata": {},
     "output_type": "execute_result"
    }
   ],
   "source": [
    "#Get the percent of rows where roomcnt is more than the sum of bedroomcnt and bathroomcnt\n",
    "(df['roomcnt'] >= (df['bathroomcnt']+df['bedroomcnt'])).mean()"
   ]
  },
  {
   "cell_type": "markdown",
   "id": "89cdbe9a",
   "metadata": {},
   "source": [
    "Some of the data is not accurate.  Consider the `regionidzip` column.  It contains values that are outside of the range of zip code values for California:"
   ]
  },
  {
   "cell_type": "code",
   "execution_count": 9,
   "id": "cba79379",
   "metadata": {},
   "outputs": [
    {
     "data": {
      "text/html": [
       "<div>\n",
       "<style scoped>\n",
       "    .dataframe tbody tr th:only-of-type {\n",
       "        vertical-align: middle;\n",
       "    }\n",
       "\n",
       "    .dataframe tbody tr th {\n",
       "        vertical-align: top;\n",
       "    }\n",
       "\n",
       "    .dataframe thead th {\n",
       "        text-align: right;\n",
       "    }\n",
       "</style>\n",
       "<table border=\"1\" class=\"dataframe\">\n",
       "  <thead>\n",
       "    <tr style=\"text-align: right;\">\n",
       "      <th></th>\n",
       "      <th>regionidzip</th>\n",
       "    </tr>\n",
       "  </thead>\n",
       "  <tbody>\n",
       "    <tr>\n",
       "      <th>count</th>\n",
       "      <td>52415.000000</td>\n",
       "    </tr>\n",
       "    <tr>\n",
       "      <th>mean</th>\n",
       "      <td>96635.846380</td>\n",
       "    </tr>\n",
       "    <tr>\n",
       "      <th>std</th>\n",
       "      <td>4605.107533</td>\n",
       "    </tr>\n",
       "    <tr>\n",
       "      <th>min</th>\n",
       "      <td>95982.000000</td>\n",
       "    </tr>\n",
       "    <tr>\n",
       "      <th>25%</th>\n",
       "      <td>96206.000000</td>\n",
       "    </tr>\n",
       "    <tr>\n",
       "      <th>50%</th>\n",
       "      <td>96412.000000</td>\n",
       "    </tr>\n",
       "    <tr>\n",
       "      <th>75%</th>\n",
       "      <td>96995.000000</td>\n",
       "    </tr>\n",
       "    <tr>\n",
       "      <th>max</th>\n",
       "      <td>399675.000000</td>\n",
       "    </tr>\n",
       "  </tbody>\n",
       "</table>\n",
       "</div>"
      ],
      "text/plain": [
       "         regionidzip\n",
       "count   52415.000000\n",
       "mean    96635.846380\n",
       "std      4605.107533\n",
       "min     95982.000000\n",
       "25%     96206.000000\n",
       "50%     96412.000000\n",
       "75%     96995.000000\n",
       "max    399675.000000"
      ]
     },
     "execution_count": 9,
     "metadata": {},
     "output_type": "execute_result"
    }
   ],
   "source": [
    "df[['regionidzip']].describe() # display the stats for the column"
   ]
  },
  {
   "cell_type": "markdown",
   "id": "a81c62d7",
   "metadata": {},
   "source": [
    "Some of the data is also in the wrong form.  For example `latitude` and `longitude` need to be multiplied by $10^{-6}$ to get values that are in the range for southern California.  This is illustrated by the first few rows."
   ]
  },
  {
   "cell_type": "code",
   "execution_count": 10,
   "id": "c05d8dad",
   "metadata": {},
   "outputs": [
    {
     "data": {
      "text/html": [
       "<div>\n",
       "<style scoped>\n",
       "    .dataframe tbody tr th:only-of-type {\n",
       "        vertical-align: middle;\n",
       "    }\n",
       "\n",
       "    .dataframe tbody tr th {\n",
       "        vertical-align: top;\n",
       "    }\n",
       "\n",
       "    .dataframe thead th {\n",
       "        text-align: right;\n",
       "    }\n",
       "</style>\n",
       "<table border=\"1\" class=\"dataframe\">\n",
       "  <thead>\n",
       "    <tr style=\"text-align: right;\">\n",
       "      <th></th>\n",
       "      <th>latitude</th>\n",
       "      <th>longitude</th>\n",
       "    </tr>\n",
       "  </thead>\n",
       "  <tbody>\n",
       "    <tr>\n",
       "      <th>0</th>\n",
       "      <td>33879703.0</td>\n",
       "      <td>-118406604.0</td>\n",
       "    </tr>\n",
       "    <tr>\n",
       "      <th>1</th>\n",
       "      <td>33976669.0</td>\n",
       "      <td>-117834686.0</td>\n",
       "    </tr>\n",
       "    <tr>\n",
       "      <th>2</th>\n",
       "      <td>33990330.0</td>\n",
       "      <td>-118414200.0</td>\n",
       "    </tr>\n",
       "  </tbody>\n",
       "</table>\n",
       "</div>"
      ],
      "text/plain": [
       "     latitude    longitude\n",
       "0  33879703.0 -118406604.0\n",
       "1  33976669.0 -117834686.0\n",
       "2  33990330.0 -118414200.0"
      ]
     },
     "execution_count": 10,
     "metadata": {},
     "output_type": "execute_result"
    }
   ],
   "source": [
    "df[['latitude', 'longitude']].head(3)"
   ]
  },
  {
   "cell_type": "markdown",
   "id": "c31213a9",
   "metadata": {},
   "source": [
    "The `fips` column can also be mapped to the relevant county names of Los Angeles, Ventura and Orange.\n",
    "\n",
    "Some columns contain useful information, but that would be outside of the scope of this project, see <a href='#conclusion'>conclusion</a> for a discussion.  These columns are dropped:\n",
    "- `censustractandblock` and `rawcensustractandblock` are dropped\n",
    "- `propertycountylandusecode` might be useful, but determing its meaning is outside of the scope of this project\n",
    "\n",
    "Foreign key rows are dropped.  These are:\n",
    "- `propertylandusetypeid`\n",
    "- `regionidcounty`\n",
    "- `id` : `parcelid` is used to identify rows instead.\n",
    "\n",
    "Data leakage columns are also dropped.  these are `taxamount` and `structuretaxvaluedollarcnt`.\n",
    "\n",
    "The remaining rows that have nulls are dropped as they represent a small ($ < 0.01$ of the data in the rows).\n",
    "\n",
    "`wrangle.wrangle_zillow()` is used to drop the columns, fix the values and drop the null valued rows. Is takes as a parameter `df`, a dataframe object. It uses the following functions:\n",
    "- `wrangle.zillow_drop_columns()` : drops the columns using `wrangle.COLUMNS_TO_DROP` module constant (see <a href='#appendix'>appendix</a> for more information on the constants of the `wrangle.py` module.\n",
    "- `wrangle.prepare_zillow_data()` : removes null valued rows, outliers and fixes the `latitude`, `longitude`, and `fips` columns.  In additon, it casts the datatypes to more efficient data types (typically some size of a `uint`)"
   ]
  },
  {
   "cell_type": "code",
   "execution_count": 11,
   "id": "8fec1d16",
   "metadata": {},
   "outputs": [
    {
     "data": {
      "text/html": [
       "<div>\n",
       "<style scoped>\n",
       "    .dataframe tbody tr th:only-of-type {\n",
       "        vertical-align: middle;\n",
       "    }\n",
       "\n",
       "    .dataframe tbody tr th {\n",
       "        vertical-align: top;\n",
       "    }\n",
       "\n",
       "    .dataframe thead th {\n",
       "        text-align: right;\n",
       "    }\n",
       "</style>\n",
       "<table border=\"1\" class=\"dataframe\">\n",
       "  <thead>\n",
       "    <tr style=\"text-align: right;\">\n",
       "      <th></th>\n",
       "      <th>parcelid</th>\n",
       "      <th>bathroomcnt</th>\n",
       "      <th>bedroomcnt</th>\n",
       "      <th>calculatedfinishedsquarefeet</th>\n",
       "      <th>latitude</th>\n",
       "      <th>longitude</th>\n",
       "      <th>lotsizesquarefeet</th>\n",
       "      <th>yearbuilt</th>\n",
       "      <th>taxvaluedollarcnt</th>\n",
       "      <th>county</th>\n",
       "    </tr>\n",
       "  </thead>\n",
       "  <tbody>\n",
       "    <tr>\n",
       "      <th>11820</th>\n",
       "      <td>11083224</td>\n",
       "      <td>3.0</td>\n",
       "      <td>4</td>\n",
       "      <td>2242</td>\n",
       "      <td>34.259968</td>\n",
       "      <td>-118.516774</td>\n",
       "      <td>7792.0</td>\n",
       "      <td>1979</td>\n",
       "      <td>604073</td>\n",
       "      <td>Los Angeles</td>\n",
       "    </tr>\n",
       "    <tr>\n",
       "      <th>4097</th>\n",
       "      <td>14481309</td>\n",
       "      <td>2.0</td>\n",
       "      <td>2</td>\n",
       "      <td>1631</td>\n",
       "      <td>33.616104</td>\n",
       "      <td>-117.584082</td>\n",
       "      <td>4950.0</td>\n",
       "      <td>1987</td>\n",
       "      <td>647208</td>\n",
       "      <td>Orange</td>\n",
       "    </tr>\n",
       "    <tr>\n",
       "      <th>23503</th>\n",
       "      <td>10951150</td>\n",
       "      <td>1.0</td>\n",
       "      <td>3</td>\n",
       "      <td>1028</td>\n",
       "      <td>34.197818</td>\n",
       "      <td>-118.329620</td>\n",
       "      <td>6046.0</td>\n",
       "      <td>1943</td>\n",
       "      <td>453060</td>\n",
       "      <td>Los Angeles</td>\n",
       "    </tr>\n",
       "  </tbody>\n",
       "</table>\n",
       "</div>"
      ],
      "text/plain": [
       "       parcelid  bathroomcnt  bedroomcnt  calculatedfinishedsquarefeet  \\\n",
       "11820  11083224          3.0           4                          2242   \n",
       "4097   14481309          2.0           2                          1631   \n",
       "23503  10951150          1.0           3                          1028   \n",
       "\n",
       "        latitude   longitude  lotsizesquarefeet  yearbuilt  taxvaluedollarcnt  \\\n",
       "11820  34.259968 -118.516774             7792.0       1979             604073   \n",
       "4097   33.616104 -117.584082             4950.0       1987             647208   \n",
       "23503  34.197818 -118.329620             6046.0       1943             453060   \n",
       "\n",
       "            county  \n",
       "11820  Los Angeles  \n",
       "4097        Orange  \n",
       "23503  Los Angeles  "
      ]
     },
     "execution_count": 11,
     "metadata": {},
     "output_type": "execute_result"
    }
   ],
   "source": [
    "df = wrangle.wrangle_zillow(df) #call the function that cleans and prepares the data\n",
    "df.sample(3) #display some rows"
   ]
  },
  {
   "cell_type": "code",
   "execution_count": 13,
   "id": "bf591db4",
   "metadata": {},
   "outputs": [
    {
     "data": {
      "text/html": [
       "<div>\n",
       "<style scoped>\n",
       "    .dataframe tbody tr th:only-of-type {\n",
       "        vertical-align: middle;\n",
       "    }\n",
       "\n",
       "    .dataframe tbody tr th {\n",
       "        vertical-align: top;\n",
       "    }\n",
       "\n",
       "    .dataframe thead th {\n",
       "        text-align: right;\n",
       "    }\n",
       "</style>\n",
       "<table border=\"1\" class=\"dataframe\">\n",
       "  <thead>\n",
       "    <tr style=\"text-align: right;\">\n",
       "      <th></th>\n",
       "      <th>column_name</th>\n",
       "      <th>percent_null</th>\n",
       "      <th>count_null</th>\n",
       "    </tr>\n",
       "  </thead>\n",
       "  <tbody>\n",
       "    <tr>\n",
       "      <th>0</th>\n",
       "      <td>parcelid</td>\n",
       "      <td>0.0</td>\n",
       "      <td>0</td>\n",
       "    </tr>\n",
       "    <tr>\n",
       "      <th>1</th>\n",
       "      <td>bathroomcnt</td>\n",
       "      <td>0.0</td>\n",
       "      <td>0</td>\n",
       "    </tr>\n",
       "    <tr>\n",
       "      <th>2</th>\n",
       "      <td>bedroomcnt</td>\n",
       "      <td>0.0</td>\n",
       "      <td>0</td>\n",
       "    </tr>\n",
       "    <tr>\n",
       "      <th>3</th>\n",
       "      <td>calculatedfinishedsquarefeet</td>\n",
       "      <td>0.0</td>\n",
       "      <td>0</td>\n",
       "    </tr>\n",
       "    <tr>\n",
       "      <th>4</th>\n",
       "      <td>latitude</td>\n",
       "      <td>0.0</td>\n",
       "      <td>0</td>\n",
       "    </tr>\n",
       "    <tr>\n",
       "      <th>5</th>\n",
       "      <td>longitude</td>\n",
       "      <td>0.0</td>\n",
       "      <td>0</td>\n",
       "    </tr>\n",
       "    <tr>\n",
       "      <th>6</th>\n",
       "      <td>lotsizesquarefeet</td>\n",
       "      <td>0.0</td>\n",
       "      <td>0</td>\n",
       "    </tr>\n",
       "    <tr>\n",
       "      <th>7</th>\n",
       "      <td>yearbuilt</td>\n",
       "      <td>0.0</td>\n",
       "      <td>0</td>\n",
       "    </tr>\n",
       "    <tr>\n",
       "      <th>8</th>\n",
       "      <td>taxvaluedollarcnt</td>\n",
       "      <td>0.0</td>\n",
       "      <td>0</td>\n",
       "    </tr>\n",
       "    <tr>\n",
       "      <th>9</th>\n",
       "      <td>county</td>\n",
       "      <td>0.0</td>\n",
       "      <td>0</td>\n",
       "    </tr>\n",
       "  </tbody>\n",
       "</table>\n",
       "</div>"
      ],
      "text/plain": [
       "                    column_name  percent_null  count_null\n",
       "0                      parcelid           0.0           0\n",
       "1                   bathroomcnt           0.0           0\n",
       "2                    bedroomcnt           0.0           0\n",
       "3  calculatedfinishedsquarefeet           0.0           0\n",
       "4                      latitude           0.0           0\n",
       "5                     longitude           0.0           0\n",
       "6             lotsizesquarefeet           0.0           0\n",
       "7                     yearbuilt           0.0           0\n",
       "8             taxvaluedollarcnt           0.0           0\n",
       "9                        county           0.0           0"
      ]
     },
     "execution_count": 13,
     "metadata": {},
     "output_type": "execute_result"
    }
   ],
   "source": [
    "wrangle.return_col_percent_null(df)"
   ]
  },
  {
   "cell_type": "markdown",
   "id": "f848bd7a",
   "metadata": {},
   "source": [
    "There are no more nulls in the resulting dataframe."
   ]
  },
  {
   "cell_type": "code",
   "execution_count": 12,
   "id": "55628fca",
   "metadata": {},
   "outputs": [
    {
     "data": {
      "text/plain": [
       "0.9781468698156023"
      ]
     },
     "execution_count": 12,
     "metadata": {},
     "output_type": "execute_result"
    }
   ],
   "source": [
    "(df.shape[0])/original_shape[0]"
   ]
  },
  {
   "cell_type": "markdown",
   "id": "c1ae0e24",
   "metadata": {},
   "source": [
    "$\\approx0.98$ of the data is retained.\n",
    "\n",
    "<a href='#contents'>Back to contents</a>\n",
    "\n",
    "## Explore <a name='explore'></a>\n",
    "- Data is split into `train`, `validate` and `test`\n",
    "- All hypothesis testing is done use $α = 0.05$ \n",
    "- `calculatedfinishedsquarefeet` and `taxvaluedollarcnt` are highly positively correlated\n",
    "- `bedroomcnt` and `bathroomcnt` are correlated with `taxvaluedollarcnt`, but `bathroomcnt` is particularly correlated.  It might be better to only pass `bathroomcnt` in the model. \n",
    "\n",
    "This section uses the `explore.py` module which includes the following functions:\n",
    "- `plot_variable_pairs()` plots all the pairs of variables possible and includes a regression line displayed in red.  it has the following parameters:\n",
    "    - `df` (DataFrame) : a dataframe object\n",
    "    - `columns_x` (list) : a list of column names to plot on the x-axis\n",
    "    - `columns_y` (list) : a list of column names to plot on the y-axis\n",
    "    - `sampling` (int) : the number of points from the data to plot\n",
    "- `r_values_vars()` performs a pearson r correlation test on all the possible pairs of columns that are passed. It returns a dataframe containing the column names, the r-value, the p-value and a boolean representing if the null hypothesis can be rejected. It has the following parameters:\n",
    "    - `df` (DataFrame) : a Dataframe object\n",
    "    - `columns` (list) : the columns to hypothesis test\n",
    "\n",
    "Before the exploration stange it is important to split the data into train, validate and test subsets.  This is done using the `wrangle.split_zillow_data()` function.  This function takes as its parameter `df` a dataframe object and returns three DataFrames: `train`, `validate` and `test`; these three dataframes are of descending size."
   ]
  },
  {
   "cell_type": "code",
   "execution_count": 18,
   "id": "b0ff5406",
   "metadata": {},
   "outputs": [
    {
     "data": {
      "text/plain": [
       "(28725, 12311, 10259)"
      ]
     },
     "execution_count": 18,
     "metadata": {},
     "output_type": "execute_result"
    }
   ],
   "source": [
    "train, validate, test = wrangle.split_zillow_data(df) #split the data and store the returns in variables\n",
    "train.shape[0], validate.shape[0], test.shape[0] #display the number of rows in each dataframe"
   ]
  },
  {
   "cell_type": "markdown",
   "id": "8b58fc5e",
   "metadata": {},
   "source": [
    "### Are `calculatedfinishedsquarefeet` and `taxvaluedollarcnt` related? <a name='hypothesis1'></a>\n",
    "\n",
    "Generally, bigger homes cost more than smaller homes.  Consider the following graph that includes the regression line in red."
   ]
  },
  {
   "cell_type": "code",
   "execution_count": 17,
   "id": "e00de702",
   "metadata": {},
   "outputs": [
    {
     "data": {
      "image/png": "[encoded data removed]",
      "text/plain": [
       "<Figure size 360x360 with 1 Axes>"
      ]
     },
     "metadata": {
      "needs_background": "light"
     },
     "output_type": "display_data"
    }
   ],
   "source": [
    "explore.plot_variable_pairs(train, columns_y=['taxvaluedollarcnt'], columns_x=['calculatedfinishedsquarefeet'])"
   ]
  },
  {
   "cell_type": "markdown",
   "id": "1f2dc083",
   "metadata": {},
   "source": [
    "There appears to be a strong positive correlation.  Consider the following null and alternative hypothesis:\n",
    "\n",
    "$H_0$ : `calculatedfinishedsquarefeet` and `taxvaluedollarcnt` are not correlated\n",
    "\n",
    "$H_a$ : `calculatedfinishedsquarefeet` and `taxvaluedollarcnt` are correlated\n",
    "\n",
    "This can be tested using the `explore.r_values_vars()` function."
   ]
  },
  {
   "cell_type": "code",
   "execution_count": 19,
   "id": "079e7fc3",
   "metadata": {},
   "outputs": [
    {
     "data": {
      "text/html": [
       "<div>\n",
       "<style scoped>\n",
       "    .dataframe tbody tr th:only-of-type {\n",
       "        vertical-align: middle;\n",
       "    }\n",
       "\n",
       "    .dataframe tbody tr th {\n",
       "        vertical-align: top;\n",
       "    }\n",
       "\n",
       "    .dataframe thead th {\n",
       "        text-align: right;\n",
       "    }\n",
       "</style>\n",
       "<table border=\"1\" class=\"dataframe\">\n",
       "  <thead>\n",
       "    <tr style=\"text-align: right;\">\n",
       "      <th></th>\n",
       "      <th>correlation</th>\n",
       "      <th>r</th>\n",
       "      <th>p-value</th>\n",
       "      <th>reject_null</th>\n",
       "    </tr>\n",
       "  </thead>\n",
       "  <tbody>\n",
       "    <tr>\n",
       "      <th>0</th>\n",
       "      <td>taxvaluedollarcnt x calculatedfinishedsquarefeet</td>\n",
       "      <td>0.552838</td>\n",
       "      <td>0.0</td>\n",
       "      <td>True</td>\n",
       "    </tr>\n",
       "  </tbody>\n",
       "</table>\n",
       "</div>"
      ],
      "text/plain": [
       "                                        correlation         r  p-value  \\\n",
       "0  taxvaluedollarcnt x calculatedfinishedsquarefeet  0.552838      0.0   \n",
       "\n",
       "   reject_null  \n",
       "0         True  "
      ]
     },
     "execution_count": 19,
     "metadata": {},
     "output_type": "execute_result"
    }
   ],
   "source": [
    "explore.r_values_vars(train, columns = ['taxvaluedollarcnt', 'calculatedfinishedsquarefeet'])"
   ]
  },
  {
   "cell_type": "markdown",
   "id": "243909d1",
   "metadata": {},
   "source": [
    "The p-value is low likely due to the size of the dataframe.  $H_0$ is likely false, and $H_a$ is likely true.\n",
    "\n",
    "<a href='#contents'>Back to contents</a>\n",
    "\n",
    "### What is the connection between `bedroomcnt`, `bathroomcnt` and `taxvaluedollarcnt`? <a name='hypothesis2'></a>\n",
    "\n",
    "The number of bedroom and the number of bathrooms a house has correlated with the size of the house.  However, it might be the case that more expensive houses have more bathrooms, and likely more bedrooms.  In addition, it might be the case that more expensive houses have a lower ratio between bedrooms to bathroom -- that is, an expenisve house is more likely to have an ensuite bathroom for more bedrooms.\n",
    "\n",
    "First, consider the correlation between `bedroomcnt` and `taxvaluedollarcnt`.  Consider the following graph:"
   ]
  },
  {
   "cell_type": "code",
   "execution_count": 22,
   "id": "8e5879f7",
   "metadata": {},
   "outputs": [
    {
     "data": {
      "image/png": "[encoded data removed]",
      "text/plain": [
       "<Figure size 360x360 with 1 Axes>"
      ]
     },
     "metadata": {
      "needs_background": "light"
     },
     "output_type": "display_data"
    }
   ],
   "source": [
    "explore.plot_variable_pairs(train, columns_y=['taxvaluedollarcnt'], columns_x=['bedroomcnt'])"
   ]
  },
  {
   "cell_type": "markdown",
   "id": "47e13557",
   "metadata": {},
   "source": [
    "Consider the following hypothesis:\n",
    "\n",
    "$H_0$ : `bedroomcnt` and `taxvaluedollarcnt` are unrelated\n",
    "\n",
    "$H_a$ : `bedroomcnt` and `taxvaluedollarcnt` are related\n",
    "\n",
    "Run a hypothesis test:"
   ]
  },
  {
   "cell_type": "code",
   "execution_count": 23,
   "id": "170f6465",
   "metadata": {},
   "outputs": [
    {
     "data": {
      "text/html": [
       "<div>\n",
       "<style scoped>\n",
       "    .dataframe tbody tr th:only-of-type {\n",
       "        vertical-align: middle;\n",
       "    }\n",
       "\n",
       "    .dataframe tbody tr th {\n",
       "        vertical-align: top;\n",
       "    }\n",
       "\n",
       "    .dataframe thead th {\n",
       "        text-align: right;\n",
       "    }\n",
       "</style>\n",
       "<table border=\"1\" class=\"dataframe\">\n",
       "  <thead>\n",
       "    <tr style=\"text-align: right;\">\n",
       "      <th></th>\n",
       "      <th>correlation</th>\n",
       "      <th>r</th>\n",
       "      <th>p-value</th>\n",
       "      <th>reject_null</th>\n",
       "    </tr>\n",
       "  </thead>\n",
       "  <tbody>\n",
       "    <tr>\n",
       "      <th>0</th>\n",
       "      <td>taxvaluedollarcnt x bedroomcnt</td>\n",
       "      <td>0.240511</td>\n",
       "      <td>0.0</td>\n",
       "      <td>True</td>\n",
       "    </tr>\n",
       "  </tbody>\n",
       "</table>\n",
       "</div>"
      ],
      "text/plain": [
       "                      correlation         r  p-value  reject_null\n",
       "0  taxvaluedollarcnt x bedroomcnt  0.240511      0.0         True"
      ]
     },
     "execution_count": 23,
     "metadata": {},
     "output_type": "execute_result"
    }
   ],
   "source": [
    "explore.r_values_vars(train, columns = ['taxvaluedollarcnt', 'bedroomcnt'])"
   ]
  },
  {
   "cell_type": "markdown",
   "id": "8b27eb0c",
   "metadata": {},
   "source": [
    "$H_0$ is likely false.  However, the r-value is not particularly high.\n",
    "\n",
    "Now consider the correlation between `bathroomcnt` and `taxvaluedollarcnt`.  Consider the following graph:"
   ]
  },
  {
   "cell_type": "code",
   "execution_count": 24,
   "id": "1659f256",
   "metadata": {},
   "outputs": [
    {
     "data": {
      "image/png": "[encoded data removed]",
      "text/plain": [
       "<Figure size 360x360 with 1 Axes>"
      ]
     },
     "metadata": {
      "needs_background": "light"
     },
     "output_type": "display_data"
    }
   ],
   "source": [
    "explore.plot_variable_pairs(train, columns_y=['taxvaluedollarcnt'], columns_x=['bathroomcnt'])"
   ]
  },
  {
   "cell_type": "markdown",
   "id": "878586af",
   "metadata": {},
   "source": [
    "Consider the following hypothesis:\n",
    "\n",
    "$H_0$ : `bathroomcnt` and `taxvaluedollarcnt` are unrelated\n",
    "\n",
    "$H_a$ : `bathroomcnt` and `taxvaluedollarcnt` are related\n",
    "\n",
    "Run a hypothesis test:"
   ]
  },
  {
   "cell_type": "code",
   "execution_count": 26,
   "id": "5e0da497",
   "metadata": {},
   "outputs": [
    {
     "data": {
      "text/html": [
       "<div>\n",
       "<style scoped>\n",
       "    .dataframe tbody tr th:only-of-type {\n",
       "        vertical-align: middle;\n",
       "    }\n",
       "\n",
       "    .dataframe tbody tr th {\n",
       "        vertical-align: top;\n",
       "    }\n",
       "\n",
       "    .dataframe thead th {\n",
       "        text-align: right;\n",
       "    }\n",
       "</style>\n",
       "<table border=\"1\" class=\"dataframe\">\n",
       "  <thead>\n",
       "    <tr style=\"text-align: right;\">\n",
       "      <th></th>\n",
       "      <th>correlation</th>\n",
       "      <th>r</th>\n",
       "      <th>p-value</th>\n",
       "      <th>reject_null</th>\n",
       "    </tr>\n",
       "  </thead>\n",
       "  <tbody>\n",
       "    <tr>\n",
       "      <th>0</th>\n",
       "      <td>taxvaluedollarcnt x bathroomcnt</td>\n",
       "      <td>0.493155</td>\n",
       "      <td>0.0</td>\n",
       "      <td>True</td>\n",
       "    </tr>\n",
       "  </tbody>\n",
       "</table>\n",
       "</div>"
      ],
      "text/plain": [
       "                       correlation         r  p-value  reject_null\n",
       "0  taxvaluedollarcnt x bathroomcnt  0.493155      0.0         True"
      ]
     },
     "execution_count": 26,
     "metadata": {},
     "output_type": "execute_result"
    }
   ],
   "source": [
    "explore.r_values_vars(train, columns = ['taxvaluedollarcnt', 'bathroomcnt'])"
   ]
  },
  {
   "cell_type": "markdown",
   "id": "6181f008",
   "metadata": {},
   "source": [
    "$H_0$ is likely false.  The r-value is much higher than the correlation with `bedroomcnt`.  \n",
    "\n",
    "Consider the ratio between `bedroomcnt` and `bathroomcnt` defined as $\\text{ratio} = \\frac{\\text{`bathroomcnt`}}{\\text{`bedroomcnt`}}$.  If the ratio is low then `taxvaluedollarcnt` is most likely higher.\n",
    "\n",
    "Make a column first:"
   ]
  },
  {
   "cell_type": "code",
   "execution_count": 35,
   "id": "f7d87c04",
   "metadata": {},
   "outputs": [],
   "source": [
    "train['bed_bath_ratio'] = train['bedroomcnt']/train['bathroomcnt']"
   ]
  },
  {
   "cell_type": "markdown",
   "id": "a8f27fd7",
   "metadata": {},
   "source": [
    "Graph the column"
   ]
  },
  {
   "cell_type": "code",
   "execution_count": 39,
   "id": "0c8b17c2",
   "metadata": {},
   "outputs": [
    {
     "data": {
      "image/png": "[encoded data removed]",
      "text/plain": [
       "<Figure size 360x360 with 1 Axes>"
      ]
     },
     "metadata": {
      "needs_background": "light"
     },
     "output_type": "display_data"
    }
   ],
   "source": [
    "explore.plot_variable_pairs(train, columns_y=['taxvaluedollarcnt'], columns_x=['bed_bath_ratio'])"
   ]
  },
  {
   "cell_type": "markdown",
   "id": "11b1538c",
   "metadata": {},
   "source": [
    "It looks like thhere is a correlation.  Consider the following hypothesis:\n",
    "\n",
    "$H_0$ : There is no correlation between the bedroom-bathroom ratio and `taxvaluedollarcnt`\n",
    "\n",
    "$H_a$ : There is a correlation between the bedroom-bathroom ratio and `taxvaluedollarcnt`\n",
    "\n",
    "Run the hypothesis test:"
   ]
  },
  {
   "cell_type": "code",
   "execution_count": 40,
   "id": "61e2aed4",
   "metadata": {},
   "outputs": [
    {
     "data": {
      "text/html": [
       "<div>\n",
       "<style scoped>\n",
       "    .dataframe tbody tr th:only-of-type {\n",
       "        vertical-align: middle;\n",
       "    }\n",
       "\n",
       "    .dataframe tbody tr th {\n",
       "        vertical-align: top;\n",
       "    }\n",
       "\n",
       "    .dataframe thead th {\n",
       "        text-align: right;\n",
       "    }\n",
       "</style>\n",
       "<table border=\"1\" class=\"dataframe\">\n",
       "  <thead>\n",
       "    <tr style=\"text-align: right;\">\n",
       "      <th></th>\n",
       "      <th>correlation</th>\n",
       "      <th>r</th>\n",
       "      <th>p-value</th>\n",
       "      <th>reject_null</th>\n",
       "    </tr>\n",
       "  </thead>\n",
       "  <tbody>\n",
       "    <tr>\n",
       "      <th>0</th>\n",
       "      <td>taxvaluedollarcnt x bed_bath_ratio</td>\n",
       "      <td>-0.294967</td>\n",
       "      <td>0.0</td>\n",
       "      <td>True</td>\n",
       "    </tr>\n",
       "  </tbody>\n",
       "</table>\n",
       "</div>"
      ],
      "text/plain": [
       "                          correlation         r  p-value  reject_null\n",
       "0  taxvaluedollarcnt x bed_bath_ratio -0.294967      0.0         True"
      ]
     },
     "execution_count": 40,
     "metadata": {},
     "output_type": "execute_result"
    }
   ],
   "source": [
    "explore.r_values_vars(train, columns = ['taxvaluedollarcnt', 'bed_bath_ratio'])"
   ]
  },
  {
   "cell_type": "markdown",
   "id": "9922a666",
   "metadata": {},
   "source": [
    "$H_0$ is likely false. In addition the correlation is negative, as expected.  However, the correlation is not very high. \n",
    "\n",
    "It is worth considering a `min_rooms` defined as $\\text{`bedroomcnt`} + \\text{`bathroomcnt`}$.  Note that this is similar to the dropped `roomcnt` but will not have null values.  The houses will have at least `min_rooms`; this means that `bedroomcnt` and `bathroomcnt` can be dropped.\n",
    "\n",
    "First make the column:"
   ]
  },
  {
   "cell_type": "code",
   "execution_count": 42,
   "id": "aaa4285b",
   "metadata": {},
   "outputs": [],
   "source": [
    "train['min_rooms'] = train['bedroomcnt'] + train['bathroomcnt']"
   ]
  },
  {
   "cell_type": "markdown",
   "id": "a380276e",
   "metadata": {},
   "source": [
    "Graph the column:"
   ]
  },
  {
   "cell_type": "code",
   "execution_count": 43,
   "id": "2e6b732c",
   "metadata": {},
   "outputs": [
    {
     "data": {
      "image/png": "[encoded data removed]",
      "text/plain": [
       "<Figure size 360x360 with 1 Axes>"
      ]
     },
     "metadata": {
      "needs_background": "light"
     },
     "output_type": "display_data"
    }
   ],
   "source": [
    "explore.plot_variable_pairs(train, columns_y=['taxvaluedollarcnt'], columns_x=['min_rooms'])"
   ]
  },
  {
   "cell_type": "markdown",
   "id": "612bc92f",
   "metadata": {},
   "source": [
    "It looks like thhere is a correlation.  Consider the following hypothesis:\n",
    "\n",
    "$H_0$ : There is no correlation between `min_rooms` and `taxvaluedollarcnt`\n",
    "\n",
    "$H_a$ : There is a correlation between `min_rooms` and `taxvaluedollarcnt`\n",
    "\n",
    "Run the hypothesis test:"
   ]
  },
  {
   "cell_type": "code",
   "execution_count": 44,
   "id": "1eda5f20",
   "metadata": {},
   "outputs": [
    {
     "data": {
      "text/html": [
       "<div>\n",
       "<style scoped>\n",
       "    .dataframe tbody tr th:only-of-type {\n",
       "        vertical-align: middle;\n",
       "    }\n",
       "\n",
       "    .dataframe tbody tr th {\n",
       "        vertical-align: top;\n",
       "    }\n",
       "\n",
       "    .dataframe thead th {\n",
       "        text-align: right;\n",
       "    }\n",
       "</style>\n",
       "<table border=\"1\" class=\"dataframe\">\n",
       "  <thead>\n",
       "    <tr style=\"text-align: right;\">\n",
       "      <th></th>\n",
       "      <th>correlation</th>\n",
       "      <th>r</th>\n",
       "      <th>p-value</th>\n",
       "      <th>reject_null</th>\n",
       "    </tr>\n",
       "  </thead>\n",
       "  <tbody>\n",
       "    <tr>\n",
       "      <th>0</th>\n",
       "      <td>taxvaluedollarcnt x min_rooms</td>\n",
       "      <td>0.409705</td>\n",
       "      <td>0.0</td>\n",
       "      <td>True</td>\n",
       "    </tr>\n",
       "  </tbody>\n",
       "</table>\n",
       "</div>"
      ],
      "text/plain": [
       "                     correlation         r  p-value  reject_null\n",
       "0  taxvaluedollarcnt x min_rooms  0.409705      0.0         True"
      ]
     },
     "execution_count": 44,
     "metadata": {},
     "output_type": "execute_result"
    }
   ],
   "source": [
    "explore.r_values_vars(train, columns = ['taxvaluedollarcnt', 'min_rooms'])"
   ]
  },
  {
   "cell_type": "markdown",
   "id": "18db4179",
   "metadata": {},
   "source": [
    "$H_0$ is likely false.  But the correlation is not very strong.  However, there is probably colinearity at work; therefore, `bedroomcnt` and `calculatedfinishedsquarefeet` might be columns to not train a model on.  Alternatively, keep `bathroomcnt` and consider the number of square feet to the number of bathrooms."
   ]
  },
  {
   "cell_type": "code",
   "execution_count": null,
   "id": "bd7a66d6",
   "metadata": {},
   "outputs": [],
   "source": []
  }
 ],
 "metadata": {
  "kernelspec": {
   "display_name": "Python 3 (ipykernel)",
   "language": "python",
   "name": "python3"
  },
  "language_info": {
   "codemirror_mode": {
    "name": "ipython",
    "version": 3
   },
   "file_extension": ".py",
   "mimetype": "text/x-python",
   "name": "python",
   "nbconvert_exporter": "python",
   "pygments_lexer": "ipython3",
   "version": "3.9.7"
  }
 },
 "nbformat": 4,
 "nbformat_minor": 5
}
