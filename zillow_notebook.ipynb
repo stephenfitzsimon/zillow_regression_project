{
 "cells": [
  {
   "cell_type": "markdown",
   "id": "e0cf2348",
   "metadata": {},
   "source": [
    "# Zillow regression project notes"
   ]
  },
  {
   "cell_type": "code",
   "execution_count": 1,
   "id": "f02ea28d",
   "metadata": {},
   "outputs": [],
   "source": [
    "import matplotlib.pyplot as plt\n",
    "import seaborn as sns"
   ]
  },
  {
   "cell_type": "markdown",
   "id": "77c60266",
   "metadata": {},
   "source": [
    "## Contents <a name='contents'></a>\n",
    "\n",
    "*Links will only work on a local copy, not in browser on GitHub*\n",
    "\n",
    "1. <a href='#wrangle'>wrangle data</a>\n",
    "    1. <a href='#getdata'> `get_zillow_data()`</a>\n",
    "    2. <a href='#missingdata'>Dealing with unnessecary columns</a>\n",
    "2. <a href='#cleaning'>Cleaning and preparing the data</a>\n",
    "3. <a href='#explore'>Explore the data</a>\n",
    "    1. <a href='#univariate'>Univariate</a>\n",
    "    2. <a href='#multivariate'>Multivariate</a>"
   ]
  },
  {
   "cell_type": "markdown",
   "id": "b62e94b1",
   "metadata": {},
   "source": [
    "## Wrangle data <a name='wrangle'></a>\n",
    "\n",
    "<a href='#contents'>Top</a>\n",
    "\n",
    "### Description of `wrangle.py`\n",
    "\n",
    "The custom module `wrangle.py` contains functions that access the database, clean and prepare the data."
   ]
  },
  {
   "cell_type": "code",
   "execution_count": 2,
   "id": "0993e698",
   "metadata": {},
   "outputs": [],
   "source": [
    "import wrangle"
   ]
  },
  {
   "cell_type": "markdown",
   "id": "73652bf9",
   "metadata": {},
   "source": [
    "### Getting the data from the database <a name = 'getdata'></a>\n",
    "\n",
    "Use the `get_zillow_data()` function to access the database or the .csv file to retrieve the data.  It takes the following arguments:\n",
    "- `query_db=False` : forces a database query even if the .csv file for the data is present\n",
    "It returns the following:\n",
    "- A dataframe containing the data from the database."
   ]
  },
  {
   "cell_type": "code",
   "execution_count": 3,
   "id": "6421a1b3",
   "metadata": {},
   "outputs": [
    {
     "name": "stdout",
     "output_type": "stream",
     "text": [
      "Returning saved csv file.\n"
     ]
    }
   ],
   "source": [
    "df = wrangle.get_zillow_data()"
   ]
  },
  {
   "cell_type": "code",
   "execution_count": 4,
   "id": "a8f1acfc",
   "metadata": {},
   "outputs": [
    {
     "data": {
      "text/html": [
       "<div>\n",
       "<style scoped>\n",
       "    .dataframe tbody tr th:only-of-type {\n",
       "        vertical-align: middle;\n",
       "    }\n",
       "\n",
       "    .dataframe tbody tr th {\n",
       "        vertical-align: top;\n",
       "    }\n",
       "\n",
       "    .dataframe thead th {\n",
       "        text-align: right;\n",
       "    }\n",
       "</style>\n",
       "<table border=\"1\" class=\"dataframe\">\n",
       "  <thead>\n",
       "    <tr style=\"text-align: right;\">\n",
       "      <th></th>\n",
       "      <th>id</th>\n",
       "      <th>parcelid</th>\n",
       "      <th>airconditioningtypeid</th>\n",
       "      <th>architecturalstyletypeid</th>\n",
       "      <th>basementsqft</th>\n",
       "      <th>bathroomcnt</th>\n",
       "      <th>bedroomcnt</th>\n",
       "      <th>buildingclasstypeid</th>\n",
       "      <th>buildingqualitytypeid</th>\n",
       "      <th>calculatedbathnbr</th>\n",
       "      <th>...</th>\n",
       "      <th>numberofstories</th>\n",
       "      <th>fireplaceflag</th>\n",
       "      <th>structuretaxvaluedollarcnt</th>\n",
       "      <th>taxvaluedollarcnt</th>\n",
       "      <th>assessmentyear</th>\n",
       "      <th>landtaxvaluedollarcnt</th>\n",
       "      <th>taxamount</th>\n",
       "      <th>taxdelinquencyflag</th>\n",
       "      <th>taxdelinquencyyear</th>\n",
       "      <th>censustractandblock</th>\n",
       "    </tr>\n",
       "  </thead>\n",
       "  <tbody>\n",
       "    <tr>\n",
       "      <th>0</th>\n",
       "      <td>123199</td>\n",
       "      <td>11508656</td>\n",
       "      <td>NaN</td>\n",
       "      <td>NaN</td>\n",
       "      <td>NaN</td>\n",
       "      <td>2.0</td>\n",
       "      <td>2.0</td>\n",
       "      <td>NaN</td>\n",
       "      <td>4.0</td>\n",
       "      <td>2.0</td>\n",
       "      <td>...</td>\n",
       "      <td>NaN</td>\n",
       "      <td>NaN</td>\n",
       "      <td>58010.0</td>\n",
       "      <td>320531.0</td>\n",
       "      <td>2016.0</td>\n",
       "      <td>262521.0</td>\n",
       "      <td>3687.75</td>\n",
       "      <td>NaN</td>\n",
       "      <td>NaN</td>\n",
       "      <td>6.037621e+13</td>\n",
       "    </tr>\n",
       "    <tr>\n",
       "      <th>1</th>\n",
       "      <td>1739447</td>\n",
       "      <td>12854999</td>\n",
       "      <td>NaN</td>\n",
       "      <td>NaN</td>\n",
       "      <td>NaN</td>\n",
       "      <td>2.0</td>\n",
       "      <td>4.0</td>\n",
       "      <td>NaN</td>\n",
       "      <td>6.0</td>\n",
       "      <td>2.0</td>\n",
       "      <td>...</td>\n",
       "      <td>NaN</td>\n",
       "      <td>NaN</td>\n",
       "      <td>149166.0</td>\n",
       "      <td>426363.0</td>\n",
       "      <td>2016.0</td>\n",
       "      <td>277197.0</td>\n",
       "      <td>5047.80</td>\n",
       "      <td>NaN</td>\n",
       "      <td>NaN</td>\n",
       "      <td>6.037403e+13</td>\n",
       "    </tr>\n",
       "    <tr>\n",
       "      <th>2</th>\n",
       "      <td>421832</td>\n",
       "      <td>11532400</td>\n",
       "      <td>NaN</td>\n",
       "      <td>NaN</td>\n",
       "      <td>NaN</td>\n",
       "      <td>1.0</td>\n",
       "      <td>3.0</td>\n",
       "      <td>NaN</td>\n",
       "      <td>4.0</td>\n",
       "      <td>1.0</td>\n",
       "      <td>...</td>\n",
       "      <td>NaN</td>\n",
       "      <td>NaN</td>\n",
       "      <td>78493.0</td>\n",
       "      <td>224273.0</td>\n",
       "      <td>2016.0</td>\n",
       "      <td>145780.0</td>\n",
       "      <td>2700.53</td>\n",
       "      <td>NaN</td>\n",
       "      <td>NaN</td>\n",
       "      <td>6.037276e+13</td>\n",
       "    </tr>\n",
       "    <tr>\n",
       "      <th>3</th>\n",
       "      <td>184933</td>\n",
       "      <td>12074210</td>\n",
       "      <td>NaN</td>\n",
       "      <td>NaN</td>\n",
       "      <td>NaN</td>\n",
       "      <td>2.0</td>\n",
       "      <td>2.0</td>\n",
       "      <td>NaN</td>\n",
       "      <td>6.0</td>\n",
       "      <td>2.0</td>\n",
       "      <td>...</td>\n",
       "      <td>NaN</td>\n",
       "      <td>NaN</td>\n",
       "      <td>95459.0</td>\n",
       "      <td>477322.0</td>\n",
       "      <td>2016.0</td>\n",
       "      <td>381863.0</td>\n",
       "      <td>5291.95</td>\n",
       "      <td>NaN</td>\n",
       "      <td>NaN</td>\n",
       "      <td>6.037301e+13</td>\n",
       "    </tr>\n",
       "    <tr>\n",
       "      <th>4</th>\n",
       "      <td>1049449</td>\n",
       "      <td>11978142</td>\n",
       "      <td>NaN</td>\n",
       "      <td>NaN</td>\n",
       "      <td>NaN</td>\n",
       "      <td>1.0</td>\n",
       "      <td>2.0</td>\n",
       "      <td>NaN</td>\n",
       "      <td>4.0</td>\n",
       "      <td>1.0</td>\n",
       "      <td>...</td>\n",
       "      <td>NaN</td>\n",
       "      <td>NaN</td>\n",
       "      <td>142245.0</td>\n",
       "      <td>643551.0</td>\n",
       "      <td>2016.0</td>\n",
       "      <td>501306.0</td>\n",
       "      <td>9267.35</td>\n",
       "      <td>NaN</td>\n",
       "      <td>NaN</td>\n",
       "      <td>6.037183e+13</td>\n",
       "    </tr>\n",
       "    <tr>\n",
       "      <th>...</th>\n",
       "      <td>...</td>\n",
       "      <td>...</td>\n",
       "      <td>...</td>\n",
       "      <td>...</td>\n",
       "      <td>...</td>\n",
       "      <td>...</td>\n",
       "      <td>...</td>\n",
       "      <td>...</td>\n",
       "      <td>...</td>\n",
       "      <td>...</td>\n",
       "      <td>...</td>\n",
       "      <td>...</td>\n",
       "      <td>...</td>\n",
       "      <td>...</td>\n",
       "      <td>...</td>\n",
       "      <td>...</td>\n",
       "      <td>...</td>\n",
       "      <td>...</td>\n",
       "      <td>...</td>\n",
       "      <td>...</td>\n",
       "      <td>...</td>\n",
       "    </tr>\n",
       "    <tr>\n",
       "      <th>52436</th>\n",
       "      <td>2680825</td>\n",
       "      <td>14177337</td>\n",
       "      <td>NaN</td>\n",
       "      <td>NaN</td>\n",
       "      <td>NaN</td>\n",
       "      <td>3.0</td>\n",
       "      <td>4.0</td>\n",
       "      <td>NaN</td>\n",
       "      <td>NaN</td>\n",
       "      <td>3.0</td>\n",
       "      <td>...</td>\n",
       "      <td>1.0</td>\n",
       "      <td>NaN</td>\n",
       "      <td>96892.0</td>\n",
       "      <td>290017.0</td>\n",
       "      <td>2016.0</td>\n",
       "      <td>193125.0</td>\n",
       "      <td>7243.84</td>\n",
       "      <td>NaN</td>\n",
       "      <td>NaN</td>\n",
       "      <td>6.059012e+13</td>\n",
       "    </tr>\n",
       "    <tr>\n",
       "      <th>52437</th>\n",
       "      <td>1274952</td>\n",
       "      <td>12340380</td>\n",
       "      <td>NaN</td>\n",
       "      <td>NaN</td>\n",
       "      <td>NaN</td>\n",
       "      <td>1.0</td>\n",
       "      <td>2.0</td>\n",
       "      <td>NaN</td>\n",
       "      <td>4.0</td>\n",
       "      <td>1.0</td>\n",
       "      <td>...</td>\n",
       "      <td>NaN</td>\n",
       "      <td>NaN</td>\n",
       "      <td>63718.0</td>\n",
       "      <td>150574.0</td>\n",
       "      <td>2016.0</td>\n",
       "      <td>86856.0</td>\n",
       "      <td>2047.91</td>\n",
       "      <td>NaN</td>\n",
       "      <td>NaN</td>\n",
       "      <td>6.037553e+13</td>\n",
       "    </tr>\n",
       "    <tr>\n",
       "      <th>52438</th>\n",
       "      <td>2768495</td>\n",
       "      <td>13023520</td>\n",
       "      <td>NaN</td>\n",
       "      <td>NaN</td>\n",
       "      <td>NaN</td>\n",
       "      <td>1.0</td>\n",
       "      <td>3.0</td>\n",
       "      <td>NaN</td>\n",
       "      <td>4.0</td>\n",
       "      <td>1.0</td>\n",
       "      <td>...</td>\n",
       "      <td>NaN</td>\n",
       "      <td>NaN</td>\n",
       "      <td>80921.0</td>\n",
       "      <td>258626.0</td>\n",
       "      <td>2016.0</td>\n",
       "      <td>177705.0</td>\n",
       "      <td>3263.64</td>\n",
       "      <td>NaN</td>\n",
       "      <td>NaN</td>\n",
       "      <td>6.037405e+13</td>\n",
       "    </tr>\n",
       "    <tr>\n",
       "      <th>52439</th>\n",
       "      <td>2611275</td>\n",
       "      <td>10846370</td>\n",
       "      <td>NaN</td>\n",
       "      <td>NaN</td>\n",
       "      <td>NaN</td>\n",
       "      <td>2.0</td>\n",
       "      <td>3.0</td>\n",
       "      <td>NaN</td>\n",
       "      <td>6.0</td>\n",
       "      <td>2.0</td>\n",
       "      <td>...</td>\n",
       "      <td>NaN</td>\n",
       "      <td>NaN</td>\n",
       "      <td>55067.0</td>\n",
       "      <td>88795.0</td>\n",
       "      <td>2016.0</td>\n",
       "      <td>33728.0</td>\n",
       "      <td>1120.13</td>\n",
       "      <td>NaN</td>\n",
       "      <td>NaN</td>\n",
       "      <td>6.037129e+13</td>\n",
       "    </tr>\n",
       "    <tr>\n",
       "      <th>52440</th>\n",
       "      <td>2704777</td>\n",
       "      <td>12008847</td>\n",
       "      <td>NaN</td>\n",
       "      <td>NaN</td>\n",
       "      <td>NaN</td>\n",
       "      <td>1.0</td>\n",
       "      <td>2.0</td>\n",
       "      <td>NaN</td>\n",
       "      <td>5.0</td>\n",
       "      <td>1.0</td>\n",
       "      <td>...</td>\n",
       "      <td>NaN</td>\n",
       "      <td>NaN</td>\n",
       "      <td>141295.0</td>\n",
       "      <td>518091.0</td>\n",
       "      <td>2016.0</td>\n",
       "      <td>376796.0</td>\n",
       "      <td>6353.98</td>\n",
       "      <td>NaN</td>\n",
       "      <td>NaN</td>\n",
       "      <td>6.037191e+13</td>\n",
       "    </tr>\n",
       "  </tbody>\n",
       "</table>\n",
       "<p>52441 rows × 59 columns</p>\n",
       "</div>"
      ],
      "text/plain": [
       "            id  parcelid  airconditioningtypeid  architecturalstyletypeid  \\\n",
       "0       123199  11508656                    NaN                       NaN   \n",
       "1      1739447  12854999                    NaN                       NaN   \n",
       "2       421832  11532400                    NaN                       NaN   \n",
       "3       184933  12074210                    NaN                       NaN   \n",
       "4      1049449  11978142                    NaN                       NaN   \n",
       "...        ...       ...                    ...                       ...   \n",
       "52436  2680825  14177337                    NaN                       NaN   \n",
       "52437  1274952  12340380                    NaN                       NaN   \n",
       "52438  2768495  13023520                    NaN                       NaN   \n",
       "52439  2611275  10846370                    NaN                       NaN   \n",
       "52440  2704777  12008847                    NaN                       NaN   \n",
       "\n",
       "       basementsqft  bathroomcnt  bedroomcnt  buildingclasstypeid  \\\n",
       "0               NaN          2.0         2.0                  NaN   \n",
       "1               NaN          2.0         4.0                  NaN   \n",
       "2               NaN          1.0         3.0                  NaN   \n",
       "3               NaN          2.0         2.0                  NaN   \n",
       "4               NaN          1.0         2.0                  NaN   \n",
       "...             ...          ...         ...                  ...   \n",
       "52436           NaN          3.0         4.0                  NaN   \n",
       "52437           NaN          1.0         2.0                  NaN   \n",
       "52438           NaN          1.0         3.0                  NaN   \n",
       "52439           NaN          2.0         3.0                  NaN   \n",
       "52440           NaN          1.0         2.0                  NaN   \n",
       "\n",
       "       buildingqualitytypeid  calculatedbathnbr  ...  numberofstories  \\\n",
       "0                        4.0                2.0  ...              NaN   \n",
       "1                        6.0                2.0  ...              NaN   \n",
       "2                        4.0                1.0  ...              NaN   \n",
       "3                        6.0                2.0  ...              NaN   \n",
       "4                        4.0                1.0  ...              NaN   \n",
       "...                      ...                ...  ...              ...   \n",
       "52436                    NaN                3.0  ...              1.0   \n",
       "52437                    4.0                1.0  ...              NaN   \n",
       "52438                    4.0                1.0  ...              NaN   \n",
       "52439                    6.0                2.0  ...              NaN   \n",
       "52440                    5.0                1.0  ...              NaN   \n",
       "\n",
       "       fireplaceflag  structuretaxvaluedollarcnt  taxvaluedollarcnt  \\\n",
       "0                NaN                     58010.0           320531.0   \n",
       "1                NaN                    149166.0           426363.0   \n",
       "2                NaN                     78493.0           224273.0   \n",
       "3                NaN                     95459.0           477322.0   \n",
       "4                NaN                    142245.0           643551.0   \n",
       "...              ...                         ...                ...   \n",
       "52436            NaN                     96892.0           290017.0   \n",
       "52437            NaN                     63718.0           150574.0   \n",
       "52438            NaN                     80921.0           258626.0   \n",
       "52439            NaN                     55067.0            88795.0   \n",
       "52440            NaN                    141295.0           518091.0   \n",
       "\n",
       "       assessmentyear  landtaxvaluedollarcnt  taxamount  taxdelinquencyflag  \\\n",
       "0              2016.0               262521.0    3687.75                 NaN   \n",
       "1              2016.0               277197.0    5047.80                 NaN   \n",
       "2              2016.0               145780.0    2700.53                 NaN   \n",
       "3              2016.0               381863.0    5291.95                 NaN   \n",
       "4              2016.0               501306.0    9267.35                 NaN   \n",
       "...               ...                    ...        ...                 ...   \n",
       "52436          2016.0               193125.0    7243.84                 NaN   \n",
       "52437          2016.0                86856.0    2047.91                 NaN   \n",
       "52438          2016.0               177705.0    3263.64                 NaN   \n",
       "52439          2016.0                33728.0    1120.13                 NaN   \n",
       "52440          2016.0               376796.0    6353.98                 NaN   \n",
       "\n",
       "       taxdelinquencyyear  censustractandblock  \n",
       "0                     NaN         6.037621e+13  \n",
       "1                     NaN         6.037403e+13  \n",
       "2                     NaN         6.037276e+13  \n",
       "3                     NaN         6.037301e+13  \n",
       "4                     NaN         6.037183e+13  \n",
       "...                   ...                  ...  \n",
       "52436                 NaN         6.059012e+13  \n",
       "52437                 NaN         6.037553e+13  \n",
       "52438                 NaN         6.037405e+13  \n",
       "52439                 NaN         6.037129e+13  \n",
       "52440                 NaN         6.037191e+13  \n",
       "\n",
       "[52441 rows x 59 columns]"
      ]
     },
     "execution_count": 4,
     "metadata": {},
     "output_type": "execute_result"
    }
   ],
   "source": [
    "original_shape = df.shape\n",
    "df"
   ]
  },
  {
   "cell_type": "markdown",
   "id": "8271999c",
   "metadata": {},
   "source": [
    "<a href='#content'>Top</a>\n",
    "\n",
    "### Dealing with the missing data <a name = 'missingdata'></a>\n",
    "\n",
    "There are a lot of null values.  Use `return_col_percent_null()` to see how much per column."
   ]
  },
  {
   "cell_type": "code",
   "execution_count": 5,
   "id": "cf9d7ce7",
   "metadata": {},
   "outputs": [],
   "source": [
    "df_missing_data = wrangle.return_col_percent_null(df)"
   ]
  },
  {
   "cell_type": "code",
   "execution_count": 6,
   "id": "85e4c29a",
   "metadata": {},
   "outputs": [
    {
     "data": {
      "text/html": [
       "<div>\n",
       "<style scoped>\n",
       "    .dataframe tbody tr th:only-of-type {\n",
       "        vertical-align: middle;\n",
       "    }\n",
       "\n",
       "    .dataframe tbody tr th {\n",
       "        vertical-align: top;\n",
       "    }\n",
       "\n",
       "    .dataframe thead th {\n",
       "        text-align: right;\n",
       "    }\n",
       "</style>\n",
       "<table border=\"1\" class=\"dataframe\">\n",
       "  <thead>\n",
       "    <tr style=\"text-align: right;\">\n",
       "      <th></th>\n",
       "      <th>column_name</th>\n",
       "      <th>percent_null</th>\n",
       "      <th>count_null</th>\n",
       "    </tr>\n",
       "  </thead>\n",
       "  <tbody>\n",
       "    <tr>\n",
       "      <th>15</th>\n",
       "      <td>finishedsquarefeet15</td>\n",
       "      <td>1.0000</td>\n",
       "      <td>52441</td>\n",
       "    </tr>\n",
       "    <tr>\n",
       "      <th>7</th>\n",
       "      <td>buildingclasstypeid</td>\n",
       "      <td>1.0000</td>\n",
       "      <td>52441</td>\n",
       "    </tr>\n",
       "    <tr>\n",
       "      <th>14</th>\n",
       "      <td>finishedsquarefeet13</td>\n",
       "      <td>1.0000</td>\n",
       "      <td>52441</td>\n",
       "    </tr>\n",
       "    <tr>\n",
       "      <th>42</th>\n",
       "      <td>storytypeid</td>\n",
       "      <td>0.9991</td>\n",
       "      <td>52394</td>\n",
       "    </tr>\n",
       "    <tr>\n",
       "      <th>4</th>\n",
       "      <td>basementsqft</td>\n",
       "      <td>0.9991</td>\n",
       "      <td>52394</td>\n",
       "    </tr>\n",
       "    <tr>\n",
       "      <th>47</th>\n",
       "      <td>yardbuildingsqft26</td>\n",
       "      <td>0.9988</td>\n",
       "      <td>52378</td>\n",
       "    </tr>\n",
       "    <tr>\n",
       "      <th>3</th>\n",
       "      <td>architecturalstyletypeid</td>\n",
       "      <td>0.9987</td>\n",
       "      <td>52371</td>\n",
       "    </tr>\n",
       "    <tr>\n",
       "      <th>44</th>\n",
       "      <td>typeconstructiontypeid</td>\n",
       "      <td>0.9986</td>\n",
       "      <td>52365</td>\n",
       "    </tr>\n",
       "    <tr>\n",
       "      <th>50</th>\n",
       "      <td>fireplaceflag</td>\n",
       "      <td>0.9985</td>\n",
       "      <td>52360</td>\n",
       "    </tr>\n",
       "    <tr>\n",
       "      <th>17</th>\n",
       "      <td>finishedsquarefeet6</td>\n",
       "      <td>0.9969</td>\n",
       "      <td>52276</td>\n",
       "    </tr>\n",
       "    <tr>\n",
       "      <th>10</th>\n",
       "      <td>decktypeid</td>\n",
       "      <td>0.9926</td>\n",
       "      <td>52052</td>\n",
       "    </tr>\n",
       "    <tr>\n",
       "      <th>30</th>\n",
       "      <td>pooltypeid10</td>\n",
       "      <td>0.9915</td>\n",
       "      <td>51997</td>\n",
       "    </tr>\n",
       "    <tr>\n",
       "      <th>29</th>\n",
       "      <td>poolsizesum</td>\n",
       "      <td>0.9835</td>\n",
       "      <td>51574</td>\n",
       "    </tr>\n",
       "    <tr>\n",
       "      <th>31</th>\n",
       "      <td>pooltypeid2</td>\n",
       "      <td>0.9796</td>\n",
       "      <td>51370</td>\n",
       "    </tr>\n",
       "    <tr>\n",
       "      <th>23</th>\n",
       "      <td>hashottuborspa</td>\n",
       "      <td>0.9711</td>\n",
       "      <td>50926</td>\n",
       "    </tr>\n",
       "    <tr>\n",
       "      <th>46</th>\n",
       "      <td>yardbuildingsqft17</td>\n",
       "      <td>0.9631</td>\n",
       "      <td>50504</td>\n",
       "    </tr>\n",
       "    <tr>\n",
       "      <th>56</th>\n",
       "      <td>taxdelinquencyflag</td>\n",
       "      <td>0.9604</td>\n",
       "      <td>50362</td>\n",
       "    </tr>\n",
       "    <tr>\n",
       "      <th>57</th>\n",
       "      <td>taxdelinquencyyear</td>\n",
       "      <td>0.9604</td>\n",
       "      <td>50362</td>\n",
       "    </tr>\n",
       "    <tr>\n",
       "      <th>11</th>\n",
       "      <td>finishedfloor1squarefeet</td>\n",
       "      <td>0.9165</td>\n",
       "      <td>48060</td>\n",
       "    </tr>\n",
       "    <tr>\n",
       "      <th>16</th>\n",
       "      <td>finishedsquarefeet50</td>\n",
       "      <td>0.9165</td>\n",
       "      <td>48060</td>\n",
       "    </tr>\n",
       "    <tr>\n",
       "      <th>43</th>\n",
       "      <td>threequarterbathnbr</td>\n",
       "      <td>0.8718</td>\n",
       "      <td>45717</td>\n",
       "    </tr>\n",
       "    <tr>\n",
       "      <th>19</th>\n",
       "      <td>fireplacecnt</td>\n",
       "      <td>0.8619</td>\n",
       "      <td>45198</td>\n",
       "    </tr>\n",
       "    <tr>\n",
       "      <th>32</th>\n",
       "      <td>pooltypeid7</td>\n",
       "      <td>0.8091</td>\n",
       "      <td>42432</td>\n",
       "    </tr>\n",
       "    <tr>\n",
       "      <th>28</th>\n",
       "      <td>poolcnt</td>\n",
       "      <td>0.7884</td>\n",
       "      <td>41345</td>\n",
       "    </tr>\n",
       "    <tr>\n",
       "      <th>2</th>\n",
       "      <td>airconditioningtypeid</td>\n",
       "      <td>0.7399</td>\n",
       "      <td>38803</td>\n",
       "    </tr>\n",
       "    <tr>\n",
       "      <th>49</th>\n",
       "      <td>numberofstories</td>\n",
       "      <td>0.7223</td>\n",
       "      <td>37880</td>\n",
       "    </tr>\n",
       "    <tr>\n",
       "      <th>22</th>\n",
       "      <td>garagetotalsqft</td>\n",
       "      <td>0.6565</td>\n",
       "      <td>34426</td>\n",
       "    </tr>\n",
       "    <tr>\n",
       "      <th>21</th>\n",
       "      <td>garagecarcnt</td>\n",
       "      <td>0.6565</td>\n",
       "      <td>34426</td>\n",
       "    </tr>\n",
       "    <tr>\n",
       "      <th>39</th>\n",
       "      <td>regionidneighborhood</td>\n",
       "      <td>0.6371</td>\n",
       "      <td>33408</td>\n",
       "    </tr>\n",
       "    <tr>\n",
       "      <th>8</th>\n",
       "      <td>buildingqualitytypeid</td>\n",
       "      <td>0.3566</td>\n",
       "      <td>18701</td>\n",
       "    </tr>\n",
       "    <tr>\n",
       "      <th>45</th>\n",
       "      <td>unitcnt</td>\n",
       "      <td>0.3546</td>\n",
       "      <td>18594</td>\n",
       "    </tr>\n",
       "    <tr>\n",
       "      <th>35</th>\n",
       "      <td>propertyzoningdesc</td>\n",
       "      <td>0.3546</td>\n",
       "      <td>18593</td>\n",
       "    </tr>\n",
       "    <tr>\n",
       "      <th>24</th>\n",
       "      <td>heatingorsystemtypeid</td>\n",
       "      <td>0.3529</td>\n",
       "      <td>18506</td>\n",
       "    </tr>\n",
       "    <tr>\n",
       "      <th>37</th>\n",
       "      <td>regionidcity</td>\n",
       "      <td>0.0198</td>\n",
       "      <td>1037</td>\n",
       "    </tr>\n",
       "    <tr>\n",
       "      <th>27</th>\n",
       "      <td>lotsizesquarefeet</td>\n",
       "      <td>0.0070</td>\n",
       "      <td>369</td>\n",
       "    </tr>\n",
       "    <tr>\n",
       "      <th>13</th>\n",
       "      <td>finishedsquarefeet12</td>\n",
       "      <td>0.0047</td>\n",
       "      <td>247</td>\n",
       "    </tr>\n",
       "    <tr>\n",
       "      <th>20</th>\n",
       "      <td>fullbathcnt</td>\n",
       "      <td>0.0026</td>\n",
       "      <td>137</td>\n",
       "    </tr>\n",
       "    <tr>\n",
       "      <th>9</th>\n",
       "      <td>calculatedbathnbr</td>\n",
       "      <td>0.0026</td>\n",
       "      <td>137</td>\n",
       "    </tr>\n",
       "    <tr>\n",
       "      <th>58</th>\n",
       "      <td>censustractandblock</td>\n",
       "      <td>0.0023</td>\n",
       "      <td>123</td>\n",
       "    </tr>\n",
       "    <tr>\n",
       "      <th>48</th>\n",
       "      <td>yearbuilt</td>\n",
       "      <td>0.0022</td>\n",
       "      <td>116</td>\n",
       "    </tr>\n",
       "    <tr>\n",
       "      <th>12</th>\n",
       "      <td>calculatedfinishedsquarefeet</td>\n",
       "      <td>0.0016</td>\n",
       "      <td>82</td>\n",
       "    </tr>\n",
       "    <tr>\n",
       "      <th>51</th>\n",
       "      <td>structuretaxvaluedollarcnt</td>\n",
       "      <td>0.0016</td>\n",
       "      <td>84</td>\n",
       "    </tr>\n",
       "    <tr>\n",
       "      <th>40</th>\n",
       "      <td>regionidzip</td>\n",
       "      <td>0.0005</td>\n",
       "      <td>26</td>\n",
       "    </tr>\n",
       "    <tr>\n",
       "      <th>55</th>\n",
       "      <td>taxamount</td>\n",
       "      <td>0.0001</td>\n",
       "      <td>4</td>\n",
       "    </tr>\n",
       "    <tr>\n",
       "      <th>38</th>\n",
       "      <td>regionidcounty</td>\n",
       "      <td>0.0000</td>\n",
       "      <td>0</td>\n",
       "    </tr>\n",
       "    <tr>\n",
       "      <th>5</th>\n",
       "      <td>bathroomcnt</td>\n",
       "      <td>0.0000</td>\n",
       "      <td>0</td>\n",
       "    </tr>\n",
       "    <tr>\n",
       "      <th>6</th>\n",
       "      <td>bedroomcnt</td>\n",
       "      <td>0.0000</td>\n",
       "      <td>0</td>\n",
       "    </tr>\n",
       "    <tr>\n",
       "      <th>54</th>\n",
       "      <td>landtaxvaluedollarcnt</td>\n",
       "      <td>0.0000</td>\n",
       "      <td>1</td>\n",
       "    </tr>\n",
       "    <tr>\n",
       "      <th>53</th>\n",
       "      <td>assessmentyear</td>\n",
       "      <td>0.0000</td>\n",
       "      <td>0</td>\n",
       "    </tr>\n",
       "    <tr>\n",
       "      <th>52</th>\n",
       "      <td>taxvaluedollarcnt</td>\n",
       "      <td>0.0000</td>\n",
       "      <td>1</td>\n",
       "    </tr>\n",
       "    <tr>\n",
       "      <th>18</th>\n",
       "      <td>fips</td>\n",
       "      <td>0.0000</td>\n",
       "      <td>0</td>\n",
       "    </tr>\n",
       "    <tr>\n",
       "      <th>25</th>\n",
       "      <td>latitude</td>\n",
       "      <td>0.0000</td>\n",
       "      <td>0</td>\n",
       "    </tr>\n",
       "    <tr>\n",
       "      <th>26</th>\n",
       "      <td>longitude</td>\n",
       "      <td>0.0000</td>\n",
       "      <td>0</td>\n",
       "    </tr>\n",
       "    <tr>\n",
       "      <th>1</th>\n",
       "      <td>parcelid</td>\n",
       "      <td>0.0000</td>\n",
       "      <td>0</td>\n",
       "    </tr>\n",
       "    <tr>\n",
       "      <th>33</th>\n",
       "      <td>propertycountylandusecode</td>\n",
       "      <td>0.0000</td>\n",
       "      <td>0</td>\n",
       "    </tr>\n",
       "    <tr>\n",
       "      <th>34</th>\n",
       "      <td>propertylandusetypeid</td>\n",
       "      <td>0.0000</td>\n",
       "      <td>0</td>\n",
       "    </tr>\n",
       "    <tr>\n",
       "      <th>36</th>\n",
       "      <td>rawcensustractandblock</td>\n",
       "      <td>0.0000</td>\n",
       "      <td>0</td>\n",
       "    </tr>\n",
       "    <tr>\n",
       "      <th>41</th>\n",
       "      <td>roomcnt</td>\n",
       "      <td>0.0000</td>\n",
       "      <td>0</td>\n",
       "    </tr>\n",
       "    <tr>\n",
       "      <th>0</th>\n",
       "      <td>id</td>\n",
       "      <td>0.0000</td>\n",
       "      <td>0</td>\n",
       "    </tr>\n",
       "  </tbody>\n",
       "</table>\n",
       "</div>"
      ],
      "text/plain": [
       "                     column_name  percent_null  count_null\n",
       "15          finishedsquarefeet15        1.0000       52441\n",
       "7            buildingclasstypeid        1.0000       52441\n",
       "14          finishedsquarefeet13        1.0000       52441\n",
       "42                   storytypeid        0.9991       52394\n",
       "4                   basementsqft        0.9991       52394\n",
       "47            yardbuildingsqft26        0.9988       52378\n",
       "3       architecturalstyletypeid        0.9987       52371\n",
       "44        typeconstructiontypeid        0.9986       52365\n",
       "50                 fireplaceflag        0.9985       52360\n",
       "17           finishedsquarefeet6        0.9969       52276\n",
       "10                    decktypeid        0.9926       52052\n",
       "30                  pooltypeid10        0.9915       51997\n",
       "29                   poolsizesum        0.9835       51574\n",
       "31                   pooltypeid2        0.9796       51370\n",
       "23                hashottuborspa        0.9711       50926\n",
       "46            yardbuildingsqft17        0.9631       50504\n",
       "56            taxdelinquencyflag        0.9604       50362\n",
       "57            taxdelinquencyyear        0.9604       50362\n",
       "11      finishedfloor1squarefeet        0.9165       48060\n",
       "16          finishedsquarefeet50        0.9165       48060\n",
       "43           threequarterbathnbr        0.8718       45717\n",
       "19                  fireplacecnt        0.8619       45198\n",
       "32                   pooltypeid7        0.8091       42432\n",
       "28                       poolcnt        0.7884       41345\n",
       "2          airconditioningtypeid        0.7399       38803\n",
       "49               numberofstories        0.7223       37880\n",
       "22               garagetotalsqft        0.6565       34426\n",
       "21                  garagecarcnt        0.6565       34426\n",
       "39          regionidneighborhood        0.6371       33408\n",
       "8          buildingqualitytypeid        0.3566       18701\n",
       "45                       unitcnt        0.3546       18594\n",
       "35            propertyzoningdesc        0.3546       18593\n",
       "24         heatingorsystemtypeid        0.3529       18506\n",
       "37                  regionidcity        0.0198        1037\n",
       "27             lotsizesquarefeet        0.0070         369\n",
       "13          finishedsquarefeet12        0.0047         247\n",
       "20                   fullbathcnt        0.0026         137\n",
       "9              calculatedbathnbr        0.0026         137\n",
       "58           censustractandblock        0.0023         123\n",
       "48                     yearbuilt        0.0022         116\n",
       "12  calculatedfinishedsquarefeet        0.0016          82\n",
       "51    structuretaxvaluedollarcnt        0.0016          84\n",
       "40                   regionidzip        0.0005          26\n",
       "55                     taxamount        0.0001           4\n",
       "38                regionidcounty        0.0000           0\n",
       "5                    bathroomcnt        0.0000           0\n",
       "6                     bedroomcnt        0.0000           0\n",
       "54         landtaxvaluedollarcnt        0.0000           1\n",
       "53                assessmentyear        0.0000           0\n",
       "52             taxvaluedollarcnt        0.0000           1\n",
       "18                          fips        0.0000           0\n",
       "25                      latitude        0.0000           0\n",
       "26                     longitude        0.0000           0\n",
       "1                       parcelid        0.0000           0\n",
       "33     propertycountylandusecode        0.0000           0\n",
       "34         propertylandusetypeid        0.0000           0\n",
       "36        rawcensustractandblock        0.0000           0\n",
       "41                       roomcnt        0.0000           0\n",
       "0                             id        0.0000           0"
      ]
     },
     "execution_count": 6,
     "metadata": {},
     "output_type": "execute_result"
    }
   ],
   "source": [
    "df_missing_data.sort_values('percent_null', ascending=False)"
   ]
  },
  {
   "cell_type": "markdown",
   "id": "52bd11c1",
   "metadata": {},
   "source": [
    "Drop any column that has more than 0.01 of data missing. Also drop any dataleakage columns; these are `taxamount` and `structuretaxvaluedollarcnt`."
   ]
  },
  {
   "cell_type": "markdown",
   "id": "6a446f03",
   "metadata": {},
   "source": [
    "Investigate `calculatedbathnbr`, `finishedsquarefeet12`, `fullbathcnt`."
   ]
  },
  {
   "cell_type": "code",
   "execution_count": 7,
   "id": "95ba1f2e",
   "metadata": {},
   "outputs": [
    {
     "data": {
      "text/html": [
       "<div>\n",
       "<style scoped>\n",
       "    .dataframe tbody tr th:only-of-type {\n",
       "        vertical-align: middle;\n",
       "    }\n",
       "\n",
       "    .dataframe tbody tr th {\n",
       "        vertical-align: top;\n",
       "    }\n",
       "\n",
       "    .dataframe thead th {\n",
       "        text-align: right;\n",
       "    }\n",
       "</style>\n",
       "<table border=\"1\" class=\"dataframe\">\n",
       "  <thead>\n",
       "    <tr style=\"text-align: right;\">\n",
       "      <th></th>\n",
       "      <th>calculatedbathnbr</th>\n",
       "      <th>fullbathcnt</th>\n",
       "      <th>bathroomcnt</th>\n",
       "      <th>bedroomcnt</th>\n",
       "    </tr>\n",
       "  </thead>\n",
       "  <tbody>\n",
       "    <tr>\n",
       "      <th>0</th>\n",
       "      <td>2.0</td>\n",
       "      <td>2.0</td>\n",
       "      <td>2.0</td>\n",
       "      <td>2.0</td>\n",
       "    </tr>\n",
       "    <tr>\n",
       "      <th>1</th>\n",
       "      <td>2.0</td>\n",
       "      <td>2.0</td>\n",
       "      <td>2.0</td>\n",
       "      <td>4.0</td>\n",
       "    </tr>\n",
       "    <tr>\n",
       "      <th>2</th>\n",
       "      <td>1.0</td>\n",
       "      <td>1.0</td>\n",
       "      <td>1.0</td>\n",
       "      <td>3.0</td>\n",
       "    </tr>\n",
       "    <tr>\n",
       "      <th>3</th>\n",
       "      <td>2.0</td>\n",
       "      <td>2.0</td>\n",
       "      <td>2.0</td>\n",
       "      <td>2.0</td>\n",
       "    </tr>\n",
       "    <tr>\n",
       "      <th>4</th>\n",
       "      <td>1.0</td>\n",
       "      <td>1.0</td>\n",
       "      <td>1.0</td>\n",
       "      <td>2.0</td>\n",
       "    </tr>\n",
       "    <tr>\n",
       "      <th>...</th>\n",
       "      <td>...</td>\n",
       "      <td>...</td>\n",
       "      <td>...</td>\n",
       "      <td>...</td>\n",
       "    </tr>\n",
       "    <tr>\n",
       "      <th>52436</th>\n",
       "      <td>3.0</td>\n",
       "      <td>3.0</td>\n",
       "      <td>3.0</td>\n",
       "      <td>4.0</td>\n",
       "    </tr>\n",
       "    <tr>\n",
       "      <th>52437</th>\n",
       "      <td>1.0</td>\n",
       "      <td>1.0</td>\n",
       "      <td>1.0</td>\n",
       "      <td>2.0</td>\n",
       "    </tr>\n",
       "    <tr>\n",
       "      <th>52438</th>\n",
       "      <td>1.0</td>\n",
       "      <td>1.0</td>\n",
       "      <td>1.0</td>\n",
       "      <td>3.0</td>\n",
       "    </tr>\n",
       "    <tr>\n",
       "      <th>52439</th>\n",
       "      <td>2.0</td>\n",
       "      <td>2.0</td>\n",
       "      <td>2.0</td>\n",
       "      <td>3.0</td>\n",
       "    </tr>\n",
       "    <tr>\n",
       "      <th>52440</th>\n",
       "      <td>1.0</td>\n",
       "      <td>1.0</td>\n",
       "      <td>1.0</td>\n",
       "      <td>2.0</td>\n",
       "    </tr>\n",
       "  </tbody>\n",
       "</table>\n",
       "<p>52441 rows × 4 columns</p>\n",
       "</div>"
      ],
      "text/plain": [
       "       calculatedbathnbr  fullbathcnt  bathroomcnt  bedroomcnt\n",
       "0                    2.0          2.0          2.0         2.0\n",
       "1                    2.0          2.0          2.0         4.0\n",
       "2                    1.0          1.0          1.0         3.0\n",
       "3                    2.0          2.0          2.0         2.0\n",
       "4                    1.0          1.0          1.0         2.0\n",
       "...                  ...          ...          ...         ...\n",
       "52436                3.0          3.0          3.0         4.0\n",
       "52437                1.0          1.0          1.0         2.0\n",
       "52438                1.0          1.0          1.0         3.0\n",
       "52439                2.0          2.0          2.0         3.0\n",
       "52440                1.0          1.0          1.0         2.0\n",
       "\n",
       "[52441 rows x 4 columns]"
      ]
     },
     "execution_count": 7,
     "metadata": {},
     "output_type": "execute_result"
    }
   ],
   "source": [
    "df[['calculatedbathnbr', 'fullbathcnt','bathroomcnt', 'bedroomcnt']]"
   ]
  },
  {
   "cell_type": "markdown",
   "id": "0fa7f117",
   "metadata": {},
   "source": [
    "Drop `calculatedbathnbr` and `fullbathcnt`, the data can be calculated from the other two columns"
   ]
  },
  {
   "cell_type": "code",
   "execution_count": 8,
   "id": "133e0b73",
   "metadata": {},
   "outputs": [
    {
     "data": {
      "text/html": [
       "<div>\n",
       "<style scoped>\n",
       "    .dataframe tbody tr th:only-of-type {\n",
       "        vertical-align: middle;\n",
       "    }\n",
       "\n",
       "    .dataframe tbody tr th {\n",
       "        vertical-align: top;\n",
       "    }\n",
       "\n",
       "    .dataframe thead th {\n",
       "        text-align: right;\n",
       "    }\n",
       "</style>\n",
       "<table border=\"1\" class=\"dataframe\">\n",
       "  <thead>\n",
       "    <tr style=\"text-align: right;\">\n",
       "      <th></th>\n",
       "      <th>finishedsquarefeet12</th>\n",
       "      <th>calculatedfinishedsquarefeet</th>\n",
       "    </tr>\n",
       "  </thead>\n",
       "  <tbody>\n",
       "    <tr>\n",
       "      <th>0</th>\n",
       "      <td>1110.0</td>\n",
       "      <td>1110.0</td>\n",
       "    </tr>\n",
       "    <tr>\n",
       "      <th>1</th>\n",
       "      <td>1288.0</td>\n",
       "      <td>1288.0</td>\n",
       "    </tr>\n",
       "    <tr>\n",
       "      <th>2</th>\n",
       "      <td>948.0</td>\n",
       "      <td>948.0</td>\n",
       "    </tr>\n",
       "    <tr>\n",
       "      <th>3</th>\n",
       "      <td>1498.0</td>\n",
       "      <td>1498.0</td>\n",
       "    </tr>\n",
       "    <tr>\n",
       "      <th>4</th>\n",
       "      <td>1228.0</td>\n",
       "      <td>1228.0</td>\n",
       "    </tr>\n",
       "    <tr>\n",
       "      <th>...</th>\n",
       "      <td>...</td>\n",
       "      <td>...</td>\n",
       "    </tr>\n",
       "    <tr>\n",
       "      <th>52436</th>\n",
       "      <td>2055.0</td>\n",
       "      <td>2055.0</td>\n",
       "    </tr>\n",
       "    <tr>\n",
       "      <th>52437</th>\n",
       "      <td>899.0</td>\n",
       "      <td>899.0</td>\n",
       "    </tr>\n",
       "    <tr>\n",
       "      <th>52438</th>\n",
       "      <td>964.0</td>\n",
       "      <td>964.0</td>\n",
       "    </tr>\n",
       "    <tr>\n",
       "      <th>52439</th>\n",
       "      <td>1554.0</td>\n",
       "      <td>1554.0</td>\n",
       "    </tr>\n",
       "    <tr>\n",
       "      <th>52440</th>\n",
       "      <td>1118.0</td>\n",
       "      <td>1118.0</td>\n",
       "    </tr>\n",
       "  </tbody>\n",
       "</table>\n",
       "<p>52441 rows × 2 columns</p>\n",
       "</div>"
      ],
      "text/plain": [
       "       finishedsquarefeet12  calculatedfinishedsquarefeet\n",
       "0                    1110.0                        1110.0\n",
       "1                    1288.0                        1288.0\n",
       "2                     948.0                         948.0\n",
       "3                    1498.0                        1498.0\n",
       "4                    1228.0                        1228.0\n",
       "...                     ...                           ...\n",
       "52436                2055.0                        2055.0\n",
       "52437                 899.0                         899.0\n",
       "52438                 964.0                         964.0\n",
       "52439                1554.0                        1554.0\n",
       "52440                1118.0                        1118.0\n",
       "\n",
       "[52441 rows x 2 columns]"
      ]
     },
     "execution_count": 8,
     "metadata": {},
     "output_type": "execute_result"
    }
   ],
   "source": [
    "df[['finishedsquarefeet12', 'calculatedfinishedsquarefeet']]"
   ]
  },
  {
   "cell_type": "markdown",
   "id": "e0998185",
   "metadata": {},
   "source": [
    "This one looks like a repetition of data.  Drop `finishedsquarefeet12`. `rmcnt` should be at least the sum of `bathroomcnt` and `bedroomcnt`, but isn't always.  Drop it. Consider a `min_room` column instead."
   ]
  },
  {
   "cell_type": "code",
   "execution_count": 9,
   "id": "766227f8",
   "metadata": {},
   "outputs": [
    {
     "data": {
      "text/plain": [
       "0.2617608359871093"
      ]
     },
     "execution_count": 9,
     "metadata": {},
     "output_type": "execute_result"
    }
   ],
   "source": [
    "(df['roomcnt'] >= (df['bathroomcnt']+df['bedroomcnt'])).mean()"
   ]
  },
  {
   "cell_type": "markdown",
   "id": "091290a9",
   "metadata": {},
   "source": [
    "There is already latitude and longitude.  Plus it looks like some of the zip codes are outside of the range for California. These can be dropped too.  Also, drop the census blocks, as the project is not going to go into census data."
   ]
  },
  {
   "cell_type": "code",
   "execution_count": 10,
   "id": "c0203167",
   "metadata": {},
   "outputs": [
    {
     "data": {
      "text/plain": [
       "count     52415.000000\n",
       "mean      96635.846380\n",
       "std        4605.107533\n",
       "min       95982.000000\n",
       "25%       96206.000000\n",
       "50%       96412.000000\n",
       "75%       96995.000000\n",
       "max      399675.000000\n",
       "Name: regionidzip, dtype: float64"
      ]
     },
     "execution_count": 10,
     "metadata": {},
     "output_type": "execute_result"
    }
   ],
   "source": [
    "df['regionidzip'].describe()"
   ]
  },
  {
   "cell_type": "markdown",
   "id": "c37d368d",
   "metadata": {},
   "source": [
    "In addition, drop the columns that are foreign keys: `propertylandusetypeid` and `regionidcounty`.  `propertycountylandusecode` might be useful, but not for the MVP.  `assessmentyear` can calso be dropped as it is all the same value, 2016."
   ]
  },
  {
   "cell_type": "code",
   "execution_count": 11,
   "id": "dbfb42e2",
   "metadata": {},
   "outputs": [
    {
     "data": {
      "text/plain": [
       "assessmentyear\n",
       "2016.0            52441\n",
       "dtype: int64"
      ]
     },
     "execution_count": 11,
     "metadata": {},
     "output_type": "execute_result"
    }
   ],
   "source": [
    "df[['assessmentyear']].value_counts()"
   ]
  },
  {
   "cell_type": "markdown",
   "id": "8154ee34",
   "metadata": {},
   "source": [
    "`id` can also be dropped, use `parcelid` instead"
   ]
  },
  {
   "cell_type": "code",
   "execution_count": 12,
   "id": "e2abba0e",
   "metadata": {},
   "outputs": [
    {
     "data": {
      "text/html": [
       "<div>\n",
       "<style scoped>\n",
       "    .dataframe tbody tr th:only-of-type {\n",
       "        vertical-align: middle;\n",
       "    }\n",
       "\n",
       "    .dataframe tbody tr th {\n",
       "        vertical-align: top;\n",
       "    }\n",
       "\n",
       "    .dataframe thead th {\n",
       "        text-align: right;\n",
       "    }\n",
       "</style>\n",
       "<table border=\"1\" class=\"dataframe\">\n",
       "  <thead>\n",
       "    <tr style=\"text-align: right;\">\n",
       "      <th></th>\n",
       "      <th>parcelid</th>\n",
       "      <th>bathroomcnt</th>\n",
       "      <th>bedroomcnt</th>\n",
       "      <th>calculatedfinishedsquarefeet</th>\n",
       "      <th>fips</th>\n",
       "      <th>latitude</th>\n",
       "      <th>longitude</th>\n",
       "      <th>lotsizesquarefeet</th>\n",
       "      <th>yearbuilt</th>\n",
       "      <th>taxvaluedollarcnt</th>\n",
       "    </tr>\n",
       "  </thead>\n",
       "  <tbody>\n",
       "    <tr>\n",
       "      <th>0</th>\n",
       "      <td>11508656</td>\n",
       "      <td>2.0</td>\n",
       "      <td>2.0</td>\n",
       "      <td>1110.0</td>\n",
       "      <td>6037.0</td>\n",
       "      <td>33879703.0</td>\n",
       "      <td>-118406604.0</td>\n",
       "      <td>1350.0</td>\n",
       "      <td>1912.0</td>\n",
       "      <td>320531.0</td>\n",
       "    </tr>\n",
       "    <tr>\n",
       "      <th>1</th>\n",
       "      <td>12854999</td>\n",
       "      <td>2.0</td>\n",
       "      <td>4.0</td>\n",
       "      <td>1288.0</td>\n",
       "      <td>6037.0</td>\n",
       "      <td>33976669.0</td>\n",
       "      <td>-117834686.0</td>\n",
       "      <td>8386.0</td>\n",
       "      <td>1963.0</td>\n",
       "      <td>426363.0</td>\n",
       "    </tr>\n",
       "    <tr>\n",
       "      <th>2</th>\n",
       "      <td>11532400</td>\n",
       "      <td>1.0</td>\n",
       "      <td>3.0</td>\n",
       "      <td>948.0</td>\n",
       "      <td>6037.0</td>\n",
       "      <td>33990330.0</td>\n",
       "      <td>-118414200.0</td>\n",
       "      <td>4700.0</td>\n",
       "      <td>1947.0</td>\n",
       "      <td>224273.0</td>\n",
       "    </tr>\n",
       "    <tr>\n",
       "      <th>3</th>\n",
       "      <td>12074210</td>\n",
       "      <td>2.0</td>\n",
       "      <td>2.0</td>\n",
       "      <td>1498.0</td>\n",
       "      <td>6037.0</td>\n",
       "      <td>34181237.0</td>\n",
       "      <td>-118226109.0</td>\n",
       "      <td>8297.0</td>\n",
       "      <td>1947.0</td>\n",
       "      <td>477322.0</td>\n",
       "    </tr>\n",
       "    <tr>\n",
       "      <th>4</th>\n",
       "      <td>11978142</td>\n",
       "      <td>1.0</td>\n",
       "      <td>2.0</td>\n",
       "      <td>1228.0</td>\n",
       "      <td>6037.0</td>\n",
       "      <td>34124301.0</td>\n",
       "      <td>-118178791.0</td>\n",
       "      <td>3760.0</td>\n",
       "      <td>1931.0</td>\n",
       "      <td>643551.0</td>\n",
       "    </tr>\n",
       "    <tr>\n",
       "      <th>...</th>\n",
       "      <td>...</td>\n",
       "      <td>...</td>\n",
       "      <td>...</td>\n",
       "      <td>...</td>\n",
       "      <td>...</td>\n",
       "      <td>...</td>\n",
       "      <td>...</td>\n",
       "      <td>...</td>\n",
       "      <td>...</td>\n",
       "      <td>...</td>\n",
       "    </tr>\n",
       "    <tr>\n",
       "      <th>52436</th>\n",
       "      <td>14177337</td>\n",
       "      <td>3.0</td>\n",
       "      <td>4.0</td>\n",
       "      <td>2055.0</td>\n",
       "      <td>6059.0</td>\n",
       "      <td>33879788.0</td>\n",
       "      <td>-117874125.0</td>\n",
       "      <td>6960.0</td>\n",
       "      <td>1959.0</td>\n",
       "      <td>290017.0</td>\n",
       "    </tr>\n",
       "    <tr>\n",
       "      <th>52437</th>\n",
       "      <td>12340380</td>\n",
       "      <td>1.0</td>\n",
       "      <td>2.0</td>\n",
       "      <td>899.0</td>\n",
       "      <td>6037.0</td>\n",
       "      <td>33907707.0</td>\n",
       "      <td>-118150457.0</td>\n",
       "      <td>6527.0</td>\n",
       "      <td>1953.0</td>\n",
       "      <td>150574.0</td>\n",
       "    </tr>\n",
       "    <tr>\n",
       "      <th>52438</th>\n",
       "      <td>13023520</td>\n",
       "      <td>1.0</td>\n",
       "      <td>3.0</td>\n",
       "      <td>964.0</td>\n",
       "      <td>6037.0</td>\n",
       "      <td>34112534.0</td>\n",
       "      <td>-117903417.0</td>\n",
       "      <td>5985.0</td>\n",
       "      <td>1954.0</td>\n",
       "      <td>258626.0</td>\n",
       "    </tr>\n",
       "    <tr>\n",
       "      <th>52439</th>\n",
       "      <td>10846370</td>\n",
       "      <td>2.0</td>\n",
       "      <td>3.0</td>\n",
       "      <td>1554.0</td>\n",
       "      <td>6037.0</td>\n",
       "      <td>34175592.0</td>\n",
       "      <td>-118436145.0</td>\n",
       "      <td>5880.0</td>\n",
       "      <td>1952.0</td>\n",
       "      <td>88795.0</td>\n",
       "    </tr>\n",
       "    <tr>\n",
       "      <th>52440</th>\n",
       "      <td>12008847</td>\n",
       "      <td>1.0</td>\n",
       "      <td>2.0</td>\n",
       "      <td>1118.0</td>\n",
       "      <td>6037.0</td>\n",
       "      <td>34094049.0</td>\n",
       "      <td>-118287180.0</td>\n",
       "      <td>5792.0</td>\n",
       "      <td>1913.0</td>\n",
       "      <td>518091.0</td>\n",
       "    </tr>\n",
       "  </tbody>\n",
       "</table>\n",
       "<p>52441 rows × 10 columns</p>\n",
       "</div>"
      ],
      "text/plain": [
       "       parcelid  bathroomcnt  bedroomcnt  calculatedfinishedsquarefeet  \\\n",
       "0      11508656          2.0         2.0                        1110.0   \n",
       "1      12854999          2.0         4.0                        1288.0   \n",
       "2      11532400          1.0         3.0                         948.0   \n",
       "3      12074210          2.0         2.0                        1498.0   \n",
       "4      11978142          1.0         2.0                        1228.0   \n",
       "...         ...          ...         ...                           ...   \n",
       "52436  14177337          3.0         4.0                        2055.0   \n",
       "52437  12340380          1.0         2.0                         899.0   \n",
       "52438  13023520          1.0         3.0                         964.0   \n",
       "52439  10846370          2.0         3.0                        1554.0   \n",
       "52440  12008847          1.0         2.0                        1118.0   \n",
       "\n",
       "         fips    latitude    longitude  lotsizesquarefeet  yearbuilt  \\\n",
       "0      6037.0  33879703.0 -118406604.0             1350.0     1912.0   \n",
       "1      6037.0  33976669.0 -117834686.0             8386.0     1963.0   \n",
       "2      6037.0  33990330.0 -118414200.0             4700.0     1947.0   \n",
       "3      6037.0  34181237.0 -118226109.0             8297.0     1947.0   \n",
       "4      6037.0  34124301.0 -118178791.0             3760.0     1931.0   \n",
       "...       ...         ...          ...                ...        ...   \n",
       "52436  6059.0  33879788.0 -117874125.0             6960.0     1959.0   \n",
       "52437  6037.0  33907707.0 -118150457.0             6527.0     1953.0   \n",
       "52438  6037.0  34112534.0 -117903417.0             5985.0     1954.0   \n",
       "52439  6037.0  34175592.0 -118436145.0             5880.0     1952.0   \n",
       "52440  6037.0  34094049.0 -118287180.0             5792.0     1913.0   \n",
       "\n",
       "       taxvaluedollarcnt  \n",
       "0               320531.0  \n",
       "1               426363.0  \n",
       "2               224273.0  \n",
       "3               477322.0  \n",
       "4               643551.0  \n",
       "...                  ...  \n",
       "52436           290017.0  \n",
       "52437           150574.0  \n",
       "52438           258626.0  \n",
       "52439            88795.0  \n",
       "52440           518091.0  \n",
       "\n",
       "[52441 rows x 10 columns]"
      ]
     },
     "execution_count": 12,
     "metadata": {},
     "output_type": "execute_result"
    }
   ],
   "source": [
    "df = wrangle.zillow_drop_columns(df)\n",
    "df"
   ]
  },
  {
   "cell_type": "code",
   "execution_count": 13,
   "id": "94f44b6f",
   "metadata": {},
   "outputs": [
    {
     "data": {
      "text/html": [
       "<div>\n",
       "<style scoped>\n",
       "    .dataframe tbody tr th:only-of-type {\n",
       "        vertical-align: middle;\n",
       "    }\n",
       "\n",
       "    .dataframe tbody tr th {\n",
       "        vertical-align: top;\n",
       "    }\n",
       "\n",
       "    .dataframe thead th {\n",
       "        text-align: right;\n",
       "    }\n",
       "</style>\n",
       "<table border=\"1\" class=\"dataframe\">\n",
       "  <thead>\n",
       "    <tr style=\"text-align: right;\">\n",
       "      <th></th>\n",
       "      <th>column_name</th>\n",
       "      <th>percent_null</th>\n",
       "      <th>count_null</th>\n",
       "    </tr>\n",
       "  </thead>\n",
       "  <tbody>\n",
       "    <tr>\n",
       "      <th>0</th>\n",
       "      <td>parcelid</td>\n",
       "      <td>0.0000</td>\n",
       "      <td>0</td>\n",
       "    </tr>\n",
       "    <tr>\n",
       "      <th>1</th>\n",
       "      <td>bathroomcnt</td>\n",
       "      <td>0.0000</td>\n",
       "      <td>0</td>\n",
       "    </tr>\n",
       "    <tr>\n",
       "      <th>2</th>\n",
       "      <td>bedroomcnt</td>\n",
       "      <td>0.0000</td>\n",
       "      <td>0</td>\n",
       "    </tr>\n",
       "    <tr>\n",
       "      <th>3</th>\n",
       "      <td>calculatedfinishedsquarefeet</td>\n",
       "      <td>0.0016</td>\n",
       "      <td>82</td>\n",
       "    </tr>\n",
       "    <tr>\n",
       "      <th>4</th>\n",
       "      <td>fips</td>\n",
       "      <td>0.0000</td>\n",
       "      <td>0</td>\n",
       "    </tr>\n",
       "    <tr>\n",
       "      <th>5</th>\n",
       "      <td>latitude</td>\n",
       "      <td>0.0000</td>\n",
       "      <td>0</td>\n",
       "    </tr>\n",
       "    <tr>\n",
       "      <th>6</th>\n",
       "      <td>longitude</td>\n",
       "      <td>0.0000</td>\n",
       "      <td>0</td>\n",
       "    </tr>\n",
       "    <tr>\n",
       "      <th>7</th>\n",
       "      <td>lotsizesquarefeet</td>\n",
       "      <td>0.0070</td>\n",
       "      <td>369</td>\n",
       "    </tr>\n",
       "    <tr>\n",
       "      <th>8</th>\n",
       "      <td>yearbuilt</td>\n",
       "      <td>0.0022</td>\n",
       "      <td>116</td>\n",
       "    </tr>\n",
       "    <tr>\n",
       "      <th>9</th>\n",
       "      <td>taxvaluedollarcnt</td>\n",
       "      <td>0.0000</td>\n",
       "      <td>1</td>\n",
       "    </tr>\n",
       "  </tbody>\n",
       "</table>\n",
       "</div>"
      ],
      "text/plain": [
       "                    column_name  percent_null  count_null\n",
       "0                      parcelid        0.0000           0\n",
       "1                   bathroomcnt        0.0000           0\n",
       "2                    bedroomcnt        0.0000           0\n",
       "3  calculatedfinishedsquarefeet        0.0016          82\n",
       "4                          fips        0.0000           0\n",
       "5                      latitude        0.0000           0\n",
       "6                     longitude        0.0000           0\n",
       "7             lotsizesquarefeet        0.0070         369\n",
       "8                     yearbuilt        0.0022         116\n",
       "9             taxvaluedollarcnt        0.0000           1"
      ]
     },
     "execution_count": 13,
     "metadata": {},
     "output_type": "execute_result"
    }
   ],
   "source": [
    "wrangle.return_col_percent_null(df)"
   ]
  },
  {
   "cell_type": "markdown",
   "id": "aa3cfb3e",
   "metadata": {},
   "source": [
    "Because the remaining null values are so little of the data, they can be simply dropped."
   ]
  },
  {
   "cell_type": "markdown",
   "id": "dafa10ed",
   "metadata": {},
   "source": [
    "Much better.  It is worth noting that any of the data dropped can be joined back to dataframe for exploration if needed.\n",
    "\n",
    "<a href='#contents'>Top</a>\n",
    "\n",
    "## Cleaning and preparing the data <a name='cleaning'></a>\n",
    "\n",
    "- Clear the `fips` column to say the county name.\n",
    "- fix latitude and longitude values"
   ]
  },
  {
   "cell_type": "code",
   "execution_count": 14,
   "id": "6feefc8e",
   "metadata": {},
   "outputs": [
    {
     "data": {
      "text/plain": [
       "Index(['parcelid', 'bathroomcnt', 'bedroomcnt', 'calculatedfinishedsquarefeet',\n",
       "       'fips', 'latitude', 'longitude', 'lotsizesquarefeet', 'yearbuilt',\n",
       "       'taxvaluedollarcnt'],\n",
       "      dtype='object')"
      ]
     },
     "execution_count": 14,
     "metadata": {},
     "output_type": "execute_result"
    }
   ],
   "source": [
    "df.columns"
   ]
  },
  {
   "cell_type": "code",
   "execution_count": 15,
   "id": "5d582244",
   "metadata": {
    "scrolled": true
   },
   "outputs": [
    {
     "data": {
      "image/png": "[encoded data removed]",
      "text/plain": [
       "<Figure size 1080x432 with 1 Axes>"
      ]
     },
     "metadata": {
      "needs_background": "light"
     },
     "output_type": "display_data"
    },
    {
     "data": {
      "image/png": "[encoded data removed]",
      "text/plain": [
       "<Figure size 1080x432 with 1 Axes>"
      ]
     },
     "metadata": {
      "needs_background": "light"
     },
     "output_type": "display_data"
    },
    {
     "data": {
      "image/png": "[encoded data removed]",
      "text/plain": [
       "<Figure size 1080x432 with 1 Axes>"
      ]
     },
     "metadata": {
      "needs_background": "light"
     },
     "output_type": "display_data"
    },
    {
     "data": {
      "image/png": "[encoded data removed]",
      "text/plain": [
       "<Figure size 1080x432 with 1 Axes>"
      ]
     },
     "metadata": {
      "needs_background": "light"
     },
     "output_type": "display_data"
    },
    {
     "data": {
      "image/png": "[encoded data removed]",
      "text/plain": [
       "<Figure size 1080x432 with 1 Axes>"
      ]
     },
     "metadata": {
      "needs_background": "light"
     },
     "output_type": "display_data"
    },
    {
     "data": {
      "image/png": "[encoded data removed]",
      "text/plain": [
       "<Figure size 1080x432 with 1 Axes>"
      ]
     },
     "metadata": {
      "needs_background": "light"
     },
     "output_type": "display_data"
    },
    {
     "data": {
      "image/png": "[encoded data removed]",
      "text/plain": [
       "<Figure size 1080x432 with 1 Axes>"
      ]
     },
     "metadata": {
      "needs_background": "light"
     },
     "output_type": "display_data"
    },
    {
     "data": {
      "image/png": "[encoded data removed]",
      "text/plain": [
       "<Figure size 1080x432 with 1 Axes>"
      ]
     },
     "metadata": {
      "needs_background": "light"
     },
     "output_type": "display_data"
    },
    {
     "data": {
      "image/png": "[encoded data removed]",
      "text/plain": [
       "<Figure size 1080x432 with 1 Axes>"
      ]
     },
     "metadata": {
      "needs_background": "light"
     },
     "output_type": "display_data"
    },
    {
     "data": {
      "image/png": "[encoded data removed]",
      "text/plain": [
       "<Figure size 1080x432 with 1 Axes>"
      ]
     },
     "metadata": {
      "needs_background": "light"
     },
     "output_type": "display_data"
    }
   ],
   "source": [
    "for column in df.columns:\n",
    "    plt.figure(figsize=(15,6))\n",
    "    df[column].hist(bins=100)\n",
    "    plt.xlabel(column)\n",
    "    plt.show()"
   ]
  },
  {
   "cell_type": "code",
   "execution_count": 16,
   "id": "80b99758",
   "metadata": {
    "scrolled": true
   },
   "outputs": [
    {
     "data": {
      "text/html": [
       "<div>\n",
       "<style scoped>\n",
       "    .dataframe tbody tr th:only-of-type {\n",
       "        vertical-align: middle;\n",
       "    }\n",
       "\n",
       "    .dataframe tbody tr th {\n",
       "        vertical-align: top;\n",
       "    }\n",
       "\n",
       "    .dataframe thead th {\n",
       "        text-align: right;\n",
       "    }\n",
       "</style>\n",
       "<table border=\"1\" class=\"dataframe\">\n",
       "  <thead>\n",
       "    <tr style=\"text-align: right;\">\n",
       "      <th></th>\n",
       "      <th>parcelid</th>\n",
       "      <th>bathroomcnt</th>\n",
       "      <th>bedroomcnt</th>\n",
       "      <th>calculatedfinishedsquarefeet</th>\n",
       "      <th>fips</th>\n",
       "      <th>latitude</th>\n",
       "      <th>longitude</th>\n",
       "      <th>lotsizesquarefeet</th>\n",
       "      <th>yearbuilt</th>\n",
       "      <th>taxvaluedollarcnt</th>\n",
       "    </tr>\n",
       "  </thead>\n",
       "  <tbody>\n",
       "    <tr>\n",
       "      <th>count</th>\n",
       "      <td>5.244100e+04</td>\n",
       "      <td>52441.000000</td>\n",
       "      <td>52441.000000</td>\n",
       "      <td>52359.000000</td>\n",
       "      <td>52441.000000</td>\n",
       "      <td>5.244100e+04</td>\n",
       "      <td>5.244100e+04</td>\n",
       "      <td>5.207200e+04</td>\n",
       "      <td>52325.000000</td>\n",
       "      <td>5.244000e+04</td>\n",
       "    </tr>\n",
       "    <tr>\n",
       "      <th>mean</th>\n",
       "      <td>1.299912e+07</td>\n",
       "      <td>2.299403</td>\n",
       "      <td>3.300681</td>\n",
       "      <td>1922.890754</td>\n",
       "      <td>6049.132149</td>\n",
       "      <td>3.402254e+07</td>\n",
       "      <td>-1.181942e+08</td>\n",
       "      <td>1.133962e+04</td>\n",
       "      <td>1963.393884</td>\n",
       "      <td>5.296882e+05</td>\n",
       "    </tr>\n",
       "    <tr>\n",
       "      <th>std</th>\n",
       "      <td>3.411444e+06</td>\n",
       "      <td>1.022772</td>\n",
       "      <td>0.949094</td>\n",
       "      <td>1004.365838</td>\n",
       "      <td>21.029067</td>\n",
       "      <td>2.739787e+05</td>\n",
       "      <td>3.566626e+05</td>\n",
       "      <td>8.674763e+04</td>\n",
       "      <td>23.133571</td>\n",
       "      <td>7.518946e+05</td>\n",
       "    </tr>\n",
       "    <tr>\n",
       "      <th>min</th>\n",
       "      <td>1.071186e+07</td>\n",
       "      <td>0.000000</td>\n",
       "      <td>0.000000</td>\n",
       "      <td>128.000000</td>\n",
       "      <td>6037.000000</td>\n",
       "      <td>3.334062e+07</td>\n",
       "      <td>-1.194754e+08</td>\n",
       "      <td>2.360000e+02</td>\n",
       "      <td>1878.000000</td>\n",
       "      <td>1.000000e+03</td>\n",
       "    </tr>\n",
       "    <tr>\n",
       "      <th>25%</th>\n",
       "      <td>1.151022e+07</td>\n",
       "      <td>2.000000</td>\n",
       "      <td>3.000000</td>\n",
       "      <td>1268.000000</td>\n",
       "      <td>6037.000000</td>\n",
       "      <td>3.382691e+07</td>\n",
       "      <td>-1.184007e+08</td>\n",
       "      <td>5.583000e+03</td>\n",
       "      <td>1950.000000</td>\n",
       "      <td>1.937475e+05</td>\n",
       "    </tr>\n",
       "    <tr>\n",
       "      <th>50%</th>\n",
       "      <td>1.257764e+07</td>\n",
       "      <td>2.000000</td>\n",
       "      <td>3.000000</td>\n",
       "      <td>1659.000000</td>\n",
       "      <td>6037.000000</td>\n",
       "      <td>3.402378e+07</td>\n",
       "      <td>-1.181531e+08</td>\n",
       "      <td>6.840500e+03</td>\n",
       "      <td>1961.000000</td>\n",
       "      <td>3.736120e+05</td>\n",
       "    </tr>\n",
       "    <tr>\n",
       "      <th>75%</th>\n",
       "      <td>1.412953e+07</td>\n",
       "      <td>3.000000</td>\n",
       "      <td>4.000000</td>\n",
       "      <td>2306.000000</td>\n",
       "      <td>6059.000000</td>\n",
       "      <td>3.418715e+07</td>\n",
       "      <td>-1.179292e+08</td>\n",
       "      <td>8.798250e+03</td>\n",
       "      <td>1979.000000</td>\n",
       "      <td>6.193012e+05</td>\n",
       "    </tr>\n",
       "    <tr>\n",
       "      <th>max</th>\n",
       "      <td>1.676878e+08</td>\n",
       "      <td>18.000000</td>\n",
       "      <td>14.000000</td>\n",
       "      <td>21929.000000</td>\n",
       "      <td>6111.000000</td>\n",
       "      <td>3.481877e+07</td>\n",
       "      <td>-1.175546e+08</td>\n",
       "      <td>6.971010e+06</td>\n",
       "      <td>2016.000000</td>\n",
       "      <td>4.906124e+07</td>\n",
       "    </tr>\n",
       "  </tbody>\n",
       "</table>\n",
       "</div>"
      ],
      "text/plain": [
       "           parcelid   bathroomcnt    bedroomcnt  calculatedfinishedsquarefeet  \\\n",
       "count  5.244100e+04  52441.000000  52441.000000                  52359.000000   \n",
       "mean   1.299912e+07      2.299403      3.300681                   1922.890754   \n",
       "std    3.411444e+06      1.022772      0.949094                   1004.365838   \n",
       "min    1.071186e+07      0.000000      0.000000                    128.000000   \n",
       "25%    1.151022e+07      2.000000      3.000000                   1268.000000   \n",
       "50%    1.257764e+07      2.000000      3.000000                   1659.000000   \n",
       "75%    1.412953e+07      3.000000      4.000000                   2306.000000   \n",
       "max    1.676878e+08     18.000000     14.000000                  21929.000000   \n",
       "\n",
       "               fips      latitude     longitude  lotsizesquarefeet  \\\n",
       "count  52441.000000  5.244100e+04  5.244100e+04       5.207200e+04   \n",
       "mean    6049.132149  3.402254e+07 -1.181942e+08       1.133962e+04   \n",
       "std       21.029067  2.739787e+05  3.566626e+05       8.674763e+04   \n",
       "min     6037.000000  3.334062e+07 -1.194754e+08       2.360000e+02   \n",
       "25%     6037.000000  3.382691e+07 -1.184007e+08       5.583000e+03   \n",
       "50%     6037.000000  3.402378e+07 -1.181531e+08       6.840500e+03   \n",
       "75%     6059.000000  3.418715e+07 -1.179292e+08       8.798250e+03   \n",
       "max     6111.000000  3.481877e+07 -1.175546e+08       6.971010e+06   \n",
       "\n",
       "          yearbuilt  taxvaluedollarcnt  \n",
       "count  52325.000000       5.244000e+04  \n",
       "mean    1963.393884       5.296882e+05  \n",
       "std       23.133571       7.518946e+05  \n",
       "min     1878.000000       1.000000e+03  \n",
       "25%     1950.000000       1.937475e+05  \n",
       "50%     1961.000000       3.736120e+05  \n",
       "75%     1979.000000       6.193012e+05  \n",
       "max     2016.000000       4.906124e+07  "
      ]
     },
     "execution_count": 16,
     "metadata": {},
     "output_type": "execute_result"
    }
   ],
   "source": [
    "df.describe()"
   ]
  },
  {
   "cell_type": "markdown",
   "id": "2623788e",
   "metadata": {},
   "source": [
    "A major source of outliers is `lotsizesquarefeet`."
   ]
  },
  {
   "cell_type": "code",
   "execution_count": 17,
   "id": "ac2dee1f",
   "metadata": {
    "scrolled": false
   },
   "outputs": [
    {
     "data": {
      "image/png": "[encoded data removed]",
      "text/plain": [
       "<Figure size 1080x432 with 1 Axes>"
      ]
     },
     "metadata": {
      "needs_background": "light"
     },
     "output_type": "display_data"
    },
    {
     "data": {
      "image/png": "[encoded data removed]",
      "text/plain": [
       "<Figure size 1080x432 with 1 Axes>"
      ]
     },
     "metadata": {
      "needs_background": "light"
     },
     "output_type": "display_data"
    },
    {
     "data": {
      "image/png": "[encoded data removed]",
      "text/plain": [
       "<Figure size 1080x432 with 1 Axes>"
      ]
     },
     "metadata": {
      "needs_background": "light"
     },
     "output_type": "display_data"
    },
    {
     "data": {
      "image/png": "[encoded data removed]",
      "text/plain": [
       "<Figure size 1080x432 with 1 Axes>"
      ]
     },
     "metadata": {
      "needs_background": "light"
     },
     "output_type": "display_data"
    },
    {
     "data": {
      "image/png": "[encoded data removed]",
      "text/plain": [
       "<Figure size 1080x432 with 1 Axes>"
      ]
     },
     "metadata": {
      "needs_background": "light"
     },
     "output_type": "display_data"
    },
    {
     "data": {
      "image/png": "[encoded data removed]",
      "text/plain": [
       "<Figure size 1080x432 with 1 Axes>"
      ]
     },
     "metadata": {
      "needs_background": "light"
     },
     "output_type": "display_data"
    }
   ],
   "source": [
    "for column in ['bathroomcnt', 'bedroomcnt', 'calculatedfinishedsquarefeet', 'lotsizesquarefeet', 'yearbuilt', 'taxvaluedollarcnt']:\n",
    "    plt.figure(figsize=(15,6))\n",
    "    sns.boxplot(x=column, data=df)\n",
    "    plt.show()"
   ]
  },
  {
   "cell_type": "markdown",
   "id": "5492fd3b",
   "metadata": {},
   "source": [
    "Some of the ranges are a bit funny, consider:\n",
    "- `bathroomcnt` and  `bedroomcnt` of 0 or larger than 6 can be excluded.  The average zillow user will probably not buy one of these\n",
    "- `calculatedfinishedsquarefeet` in an extreme; mainly very small and very large.  Exlcude any house smaller than 150 square feet or larger than 6000.\n",
    "- `lotsizesquarefeet` has some very extreme outliers (the max is 160 acres), exclude any lots that are above 5 acres (2.178002e+5 square feet; and this still leaves a great many outliers).\n",
    "\n",
    "Also, some of the data can be cast into better types:\n",
    "- Anything with a max below 255 can be `uint8` and others can be `uint`\n",
    "- `taxvaluedollarcnt`, `calculatedfinishedsquarefeet` and `lotsizesquarefeet` can be cast as `uint`\n",
    "\n",
    "`fips` can be mapped to county names and `latitude` and `logitude` need to be multiplied to get the correct values."
   ]
  },
  {
   "cell_type": "code",
   "execution_count": 18,
   "id": "4255bf30",
   "metadata": {
    "scrolled": false
   },
   "outputs": [],
   "source": [
    "df = wrangle.prepare_zillow_data(df)"
   ]
  },
  {
   "cell_type": "code",
   "execution_count": 19,
   "id": "6f5a5604",
   "metadata": {},
   "outputs": [
    {
     "name": "stdout",
     "output_type": "stream",
     "text": [
      "<class 'pandas.core.frame.DataFrame'>\n",
      "Int64Index: 51295 entries, 0 to 52440\n",
      "Data columns (total 10 columns):\n",
      " #   Column                        Non-Null Count  Dtype  \n",
      "---  ------                        --------------  -----  \n",
      " 0   parcelid                      51295 non-null  int64  \n",
      " 1   bathroomcnt                   51295 non-null  float64\n",
      " 2   bedroomcnt                    51295 non-null  uint8  \n",
      " 3   calculatedfinishedsquarefeet  51295 non-null  uint64 \n",
      " 4   latitude                      51295 non-null  float64\n",
      " 5   longitude                     51295 non-null  float64\n",
      " 6   lotsizesquarefeet             51295 non-null  float64\n",
      " 7   yearbuilt                     51295 non-null  uint64 \n",
      " 8   taxvaluedollarcnt             51295 non-null  uint64 \n",
      " 9   county                        51295 non-null  object \n",
      "dtypes: float64(4), int64(1), object(1), uint64(3), uint8(1)\n",
      "memory usage: 4.0+ MB\n"
     ]
    }
   ],
   "source": [
    "df.info()"
   ]
  },
  {
   "cell_type": "code",
   "execution_count": 20,
   "id": "d4f8266c",
   "metadata": {},
   "outputs": [
    {
     "data": {
      "text/plain": [
       "0.9781468698156023"
      ]
     },
     "execution_count": 20,
     "metadata": {},
     "output_type": "execute_result"
    }
   ],
   "source": [
    "(df.shape[0])/original_shape[0]"
   ]
  },
  {
   "cell_type": "markdown",
   "id": "4bb851da",
   "metadata": {},
   "source": [
    "No more nulls and $ \\approx 0.98$ of the data is retained.\n",
    "\n",
    "<a href='#contents'>Top</a>\n",
    "\n",
    "## Explore data <a name='explore'></a>\n",
    "\n",
    "First split the data to explore it."
   ]
  },
  {
   "cell_type": "code",
   "execution_count": 21,
   "id": "2ae54cd9",
   "metadata": {},
   "outputs": [],
   "source": [
    "train, validate, test = wrangle.split_zillow_data(df)"
   ]
  },
  {
   "cell_type": "code",
   "execution_count": 22,
   "id": "edb39c32",
   "metadata": {
    "scrolled": false
   },
   "outputs": [
    {
     "name": "stdout",
     "output_type": "stream",
     "text": [
      "<class 'pandas.core.frame.DataFrame'>\n",
      "Int64Index: 28725 entries, 52283 to 15115\n",
      "Data columns (total 10 columns):\n",
      " #   Column                        Non-Null Count  Dtype  \n",
      "---  ------                        --------------  -----  \n",
      " 0   parcelid                      28725 non-null  int64  \n",
      " 1   bathroomcnt                   28725 non-null  float64\n",
      " 2   bedroomcnt                    28725 non-null  uint8  \n",
      " 3   calculatedfinishedsquarefeet  28725 non-null  uint64 \n",
      " 4   latitude                      28725 non-null  float64\n",
      " 5   longitude                     28725 non-null  float64\n",
      " 6   lotsizesquarefeet             28725 non-null  float64\n",
      " 7   yearbuilt                     28725 non-null  uint64 \n",
      " 8   taxvaluedollarcnt             28725 non-null  uint64 \n",
      " 9   county                        28725 non-null  object \n",
      "dtypes: float64(4), int64(1), object(1), uint64(3), uint8(1)\n",
      "memory usage: 2.2+ MB\n"
     ]
    }
   ],
   "source": [
    "train.info()"
   ]
  },
  {
   "cell_type": "code",
   "execution_count": 23,
   "id": "025ada89",
   "metadata": {},
   "outputs": [
    {
     "data": {
      "text/html": [
       "<div>\n",
       "<style scoped>\n",
       "    .dataframe tbody tr th:only-of-type {\n",
       "        vertical-align: middle;\n",
       "    }\n",
       "\n",
       "    .dataframe tbody tr th {\n",
       "        vertical-align: top;\n",
       "    }\n",
       "\n",
       "    .dataframe thead th {\n",
       "        text-align: right;\n",
       "    }\n",
       "</style>\n",
       "<table border=\"1\" class=\"dataframe\">\n",
       "  <thead>\n",
       "    <tr style=\"text-align: right;\">\n",
       "      <th></th>\n",
       "      <th>parcelid</th>\n",
       "      <th>bathroomcnt</th>\n",
       "      <th>bedroomcnt</th>\n",
       "      <th>calculatedfinishedsquarefeet</th>\n",
       "      <th>latitude</th>\n",
       "      <th>longitude</th>\n",
       "      <th>lotsizesquarefeet</th>\n",
       "      <th>yearbuilt</th>\n",
       "      <th>taxvaluedollarcnt</th>\n",
       "      <th>county</th>\n",
       "    </tr>\n",
       "  </thead>\n",
       "  <tbody>\n",
       "    <tr>\n",
       "      <th>52283</th>\n",
       "      <td>10883656</td>\n",
       "      <td>1.0</td>\n",
       "      <td>2</td>\n",
       "      <td>806</td>\n",
       "      <td>34.189934</td>\n",
       "      <td>-118.420067</td>\n",
       "      <td>7126.0</td>\n",
       "      <td>1951</td>\n",
       "      <td>114761</td>\n",
       "      <td>Los Angeles</td>\n",
       "    </tr>\n",
       "    <tr>\n",
       "      <th>314</th>\n",
       "      <td>11420675</td>\n",
       "      <td>1.0</td>\n",
       "      <td>2</td>\n",
       "      <td>972</td>\n",
       "      <td>33.923917</td>\n",
       "      <td>-118.353665</td>\n",
       "      <td>4852.0</td>\n",
       "      <td>1920</td>\n",
       "      <td>319803</td>\n",
       "      <td>Los Angeles</td>\n",
       "    </tr>\n",
       "    <tr>\n",
       "      <th>8507</th>\n",
       "      <td>12605471</td>\n",
       "      <td>1.0</td>\n",
       "      <td>3</td>\n",
       "      <td>973</td>\n",
       "      <td>33.815068</td>\n",
       "      <td>-118.282460</td>\n",
       "      <td>5717.0</td>\n",
       "      <td>1952</td>\n",
       "      <td>39915</td>\n",
       "      <td>Los Angeles</td>\n",
       "    </tr>\n",
       "  </tbody>\n",
       "</table>\n",
       "</div>"
      ],
      "text/plain": [
       "       parcelid  bathroomcnt  bedroomcnt  calculatedfinishedsquarefeet  \\\n",
       "52283  10883656          1.0           2                           806   \n",
       "314    11420675          1.0           2                           972   \n",
       "8507   12605471          1.0           3                           973   \n",
       "\n",
       "        latitude   longitude  lotsizesquarefeet  yearbuilt  taxvaluedollarcnt  \\\n",
       "52283  34.189934 -118.420067             7126.0       1951             114761   \n",
       "314    33.923917 -118.353665             4852.0       1920             319803   \n",
       "8507   33.815068 -118.282460             5717.0       1952              39915   \n",
       "\n",
       "            county  \n",
       "52283  Los Angeles  \n",
       "314    Los Angeles  \n",
       "8507   Los Angeles  "
      ]
     },
     "execution_count": 23,
     "metadata": {},
     "output_type": "execute_result"
    }
   ],
   "source": [
    "train.head(3)"
   ]
  },
  {
   "cell_type": "markdown",
   "id": "350254b1",
   "metadata": {},
   "source": [
    "Will use the `explore.py` to see what it in the data."
   ]
  },
  {
   "cell_type": "code",
   "execution_count": 24,
   "id": "7947fcc3",
   "metadata": {},
   "outputs": [],
   "source": [
    "import explore"
   ]
  },
  {
   "cell_type": "markdown",
   "id": "e5d56eaa",
   "metadata": {},
   "source": [
    "<a href='#contents'>Top</a>\n",
    "\n",
    "### Univariate data\n",
    "\n",
    "Consider the univariate data. <a name='univariate'></a>"
   ]
  },
  {
   "cell_type": "code",
   "execution_count": 25,
   "id": "d74d175c",
   "metadata": {},
   "outputs": [
    {
     "data": {
      "text/html": [
       "<div>\n",
       "<style scoped>\n",
       "    .dataframe tbody tr th:only-of-type {\n",
       "        vertical-align: middle;\n",
       "    }\n",
       "\n",
       "    .dataframe tbody tr th {\n",
       "        vertical-align: top;\n",
       "    }\n",
       "\n",
       "    .dataframe thead th {\n",
       "        text-align: right;\n",
       "    }\n",
       "</style>\n",
       "<table border=\"1\" class=\"dataframe\">\n",
       "  <thead>\n",
       "    <tr style=\"text-align: right;\">\n",
       "      <th></th>\n",
       "      <th>bathroomcnt</th>\n",
       "      <th>bedroomcnt</th>\n",
       "      <th>calculatedfinishedsquarefeet</th>\n",
       "      <th>lotsizesquarefeet</th>\n",
       "      <th>yearbuilt</th>\n",
       "      <th>taxvaluedollarcnt</th>\n",
       "    </tr>\n",
       "  </thead>\n",
       "  <tbody>\n",
       "    <tr>\n",
       "      <th>count</th>\n",
       "      <td>28725.000000</td>\n",
       "      <td>28725.000000</td>\n",
       "      <td>28725.000000</td>\n",
       "      <td>28725.000000</td>\n",
       "      <td>28725.000000</td>\n",
       "      <td>2.872500e+04</td>\n",
       "    </tr>\n",
       "    <tr>\n",
       "      <th>mean</th>\n",
       "      <td>2.268129</td>\n",
       "      <td>3.290896</td>\n",
       "      <td>1878.211070</td>\n",
       "      <td>9048.826527</td>\n",
       "      <td>1963.222385</td>\n",
       "      <td>4.969264e+05</td>\n",
       "    </tr>\n",
       "    <tr>\n",
       "      <th>std</th>\n",
       "      <td>0.931701</td>\n",
       "      <td>0.891973</td>\n",
       "      <td>859.317692</td>\n",
       "      <td>10857.692476</td>\n",
       "      <td>22.811497</td>\n",
       "      <td>5.485281e+05</td>\n",
       "    </tr>\n",
       "    <tr>\n",
       "      <th>min</th>\n",
       "      <td>1.000000</td>\n",
       "      <td>1.000000</td>\n",
       "      <td>326.000000</td>\n",
       "      <td>236.000000</td>\n",
       "      <td>1878.000000</td>\n",
       "      <td>1.000000e+03</td>\n",
       "    </tr>\n",
       "    <tr>\n",
       "      <th>25%</th>\n",
       "      <td>2.000000</td>\n",
       "      <td>3.000000</td>\n",
       "      <td>1266.000000</td>\n",
       "      <td>5568.000000</td>\n",
       "      <td>1950.000000</td>\n",
       "      <td>1.917610e+05</td>\n",
       "    </tr>\n",
       "    <tr>\n",
       "      <th>50%</th>\n",
       "      <td>2.000000</td>\n",
       "      <td>3.000000</td>\n",
       "      <td>1653.000000</td>\n",
       "      <td>6804.000000</td>\n",
       "      <td>1960.000000</td>\n",
       "      <td>3.708290e+05</td>\n",
       "    </tr>\n",
       "    <tr>\n",
       "      <th>75%</th>\n",
       "      <td>3.000000</td>\n",
       "      <td>4.000000</td>\n",
       "      <td>2277.000000</td>\n",
       "      <td>8691.000000</td>\n",
       "      <td>1979.000000</td>\n",
       "      <td>6.087910e+05</td>\n",
       "    </tr>\n",
       "    <tr>\n",
       "      <th>max</th>\n",
       "      <td>6.500000</td>\n",
       "      <td>6.000000</td>\n",
       "      <td>6000.000000</td>\n",
       "      <td>216820.000000</td>\n",
       "      <td>2015.000000</td>\n",
       "      <td>1.561849e+07</td>\n",
       "    </tr>\n",
       "  </tbody>\n",
       "</table>\n",
       "</div>"
      ],
      "text/plain": [
       "        bathroomcnt    bedroomcnt  calculatedfinishedsquarefeet  \\\n",
       "count  28725.000000  28725.000000                  28725.000000   \n",
       "mean       2.268129      3.290896                   1878.211070   \n",
       "std        0.931701      0.891973                    859.317692   \n",
       "min        1.000000      1.000000                    326.000000   \n",
       "25%        2.000000      3.000000                   1266.000000   \n",
       "50%        2.000000      3.000000                   1653.000000   \n",
       "75%        3.000000      4.000000                   2277.000000   \n",
       "max        6.500000      6.000000                   6000.000000   \n",
       "\n",
       "       lotsizesquarefeet     yearbuilt  taxvaluedollarcnt  \n",
       "count       28725.000000  28725.000000       2.872500e+04  \n",
       "mean         9048.826527   1963.222385       4.969264e+05  \n",
       "std         10857.692476     22.811497       5.485281e+05  \n",
       "min           236.000000   1878.000000       1.000000e+03  \n",
       "25%          5568.000000   1950.000000       1.917610e+05  \n",
       "50%          6804.000000   1960.000000       3.708290e+05  \n",
       "75%          8691.000000   1979.000000       6.087910e+05  \n",
       "max        216820.000000   2015.000000       1.561849e+07  "
      ]
     },
     "execution_count": 25,
     "metadata": {},
     "output_type": "execute_result"
    }
   ],
   "source": [
    "train.describe()[['bathroomcnt', 'bedroomcnt', 'calculatedfinishedsquarefeet', 'lotsizesquarefeet', 'yearbuilt', 'taxvaluedollarcnt']]"
   ]
  },
  {
   "cell_type": "code",
   "execution_count": 26,
   "id": "5140c112",
   "metadata": {
    "scrolled": false
   },
   "outputs": [
    {
     "data": {
      "image/png": "[encoded data removed]",
      "text/plain": [
       "<Figure size 936x360 with 1 Axes>"
      ]
     },
     "metadata": {
      "needs_background": "light"
     },
     "output_type": "display_data"
    },
    {
     "data": {
      "image/png": "[encoded data removed]",
      "text/plain": [
       "<Figure size 936x360 with 1 Axes>"
      ]
     },
     "metadata": {
      "needs_background": "light"
     },
     "output_type": "display_data"
    },
    {
     "data": {
      "image/png": "[encoded data removed]",
      "text/plain": [
       "<Figure size 936x360 with 1 Axes>"
      ]
     },
     "metadata": {
      "needs_background": "light"
     },
     "output_type": "display_data"
    },
    {
     "data": {
      "image/png": "[encoded data removed]",
      "text/plain": [
       "<Figure size 936x360 with 1 Axes>"
      ]
     },
     "metadata": {
      "needs_background": "light"
     },
     "output_type": "display_data"
    },
    {
     "data": {
      "image/png": "[encoded data removed]",
      "text/plain": [
       "<Figure size 936x360 with 1 Axes>"
      ]
     },
     "metadata": {
      "needs_background": "light"
     },
     "output_type": "display_data"
    },
    {
     "data": {
      "image/png": "[encoded data removed]",
      "text/plain": [
       "<Figure size 936x360 with 1 Axes>"
      ]
     },
     "metadata": {
      "needs_background": "light"
     },
     "output_type": "display_data"
    }
   ],
   "source": [
    "for column in ['bathroomcnt', 'bedroomcnt', 'calculatedfinishedsquarefeet', 'lotsizesquarefeet', 'yearbuilt', 'taxvaluedollarcnt']:\n",
    "    plt.figure(figsize=(13,5))\n",
    "    df[column].hist(bins=100)\n",
    "    plt.xlabel(column)\n",
    "    plt.show()"
   ]
  },
  {
   "cell_type": "markdown",
   "id": "8788474e",
   "metadata": {},
   "source": [
    "Also consider boxplots"
   ]
  },
  {
   "cell_type": "code",
   "execution_count": 27,
   "id": "3c37eeae",
   "metadata": {
    "scrolled": false
   },
   "outputs": [
    {
     "data": {
      "image/png": "[encoded data removed]",
      "text/plain": [
       "<Figure size 936x360 with 1 Axes>"
      ]
     },
     "metadata": {
      "needs_background": "light"
     },
     "output_type": "display_data"
    },
    {
     "data": {
      "image/png": "[encoded data removed]",
      "text/plain": [
       "<Figure size 936x360 with 1 Axes>"
      ]
     },
     "metadata": {
      "needs_background": "light"
     },
     "output_type": "display_data"
    },
    {
     "data": {
      "image/png": "[encoded data removed]",
      "text/plain": [
       "<Figure size 936x360 with 1 Axes>"
      ]
     },
     "metadata": {
      "needs_background": "light"
     },
     "output_type": "display_data"
    },
    {
     "data": {
      "image/png": "[encoded data removed]",
      "text/plain": [
       "<Figure size 936x360 with 1 Axes>"
      ]
     },
     "metadata": {
      "needs_background": "light"
     },
     "output_type": "display_data"
    },
    {
     "data": {
      "image/png": "[encoded data removed]",
      "text/plain": [
       "<Figure size 936x360 with 1 Axes>"
      ]
     },
     "metadata": {
      "needs_background": "light"
     },
     "output_type": "display_data"
    },
    {
     "data": {
      "image/png": "[encoded data removed]",
      "text/plain": [
       "<Figure size 936x360 with 1 Axes>"
      ]
     },
     "metadata": {
      "needs_background": "light"
     },
     "output_type": "display_data"
    }
   ],
   "source": [
    "for column in ['bathroomcnt', 'bedroomcnt', 'calculatedfinishedsquarefeet', 'lotsizesquarefeet', 'yearbuilt', 'taxvaluedollarcnt']:\n",
    "    plt.figure(figsize=(13,5))\n",
    "    sns.boxplot(x=column, data=train)\n",
    "    plt.show()"
   ]
  },
  {
   "cell_type": "markdown",
   "id": "be829cf3",
   "metadata": {},
   "source": [
    "Most of the data is positively skewed with a lot of outliers.\n",
    "\n",
    "<a href='#contents'>Top</a>\n",
    "\n",
    "### Multivariate exploration <a name='multivariate'></a>\n",
    "\n",
    "First consider all the variables plotted against the target."
   ]
  },
  {
   "cell_type": "code",
   "execution_count": 28,
   "id": "57e3a960",
   "metadata": {
    "scrolled": true
   },
   "outputs": [
    {
     "data": {
      "image/png": "[encoded data removed]",
      "text/plain": [
       "<Figure size 360x360 with 1 Axes>"
      ]
     },
     "metadata": {
      "needs_background": "light"
     },
     "output_type": "display_data"
    },
    {
     "data": {
      "image/png": "[encoded data removed]",
      "text/plain": [
       "<Figure size 360x360 with 1 Axes>"
      ]
     },
     "metadata": {
      "needs_background": "light"
     },
     "output_type": "display_data"
    },
    {
     "data": {
      "image/png": "[encoded data removed]",
      "text/plain": [
       "<Figure size 360x360 with 1 Axes>"
      ]
     },
     "metadata": {
      "needs_background": "light"
     },
     "output_type": "display_data"
    },
    {
     "data": {
      "image/png": "[encoded data removed]",
      "text/plain": [
       "<Figure size 360x360 with 1 Axes>"
      ]
     },
     "metadata": {
      "needs_background": "light"
     },
     "output_type": "display_data"
    },
    {
     "data": {
      "image/png": "[encoded data removed]",
      "text/plain": [
       "<Figure size 360x360 with 1 Axes>"
      ]
     },
     "metadata": {
      "needs_background": "light"
     },
     "output_type": "display_data"
    },
    {
     "data": {
      "image/png": "[encoded data removed]",
      "text/plain": [
       "<Figure size 360x360 with 1 Axes>"
      ]
     },
     "metadata": {
      "needs_background": "light"
     },
     "output_type": "display_data"
    }
   ],
   "source": [
    "explore.plot_variable_pairs(train, columns_y=['taxvaluedollarcnt'])"
   ]
  },
  {
   "cell_type": "markdown",
   "id": "713055b8",
   "metadata": {},
   "source": [
    "`calculatedsquarefeet`, `bedroomcnt`, and `bathroomcnt` look like the most valuable.  Look at this nmumerically:"
   ]
  },
  {
   "cell_type": "code",
   "execution_count": 33,
   "id": "17d842d8",
   "metadata": {},
   "outputs": [
    {
     "data": {
      "text/html": [
       "<div>\n",
       "<style scoped>\n",
       "    .dataframe tbody tr th:only-of-type {\n",
       "        vertical-align: middle;\n",
       "    }\n",
       "\n",
       "    .dataframe tbody tr th {\n",
       "        vertical-align: top;\n",
       "    }\n",
       "\n",
       "    .dataframe thead th {\n",
       "        text-align: right;\n",
       "    }\n",
       "</style>\n",
       "<table border=\"1\" class=\"dataframe\">\n",
       "  <thead>\n",
       "    <tr style=\"text-align: right;\">\n",
       "      <th></th>\n",
       "      <th>column1_x_column2</th>\n",
       "      <th>r</th>\n",
       "      <th>p-value</th>\n",
       "      <th>reject_null</th>\n",
       "    </tr>\n",
       "  </thead>\n",
       "  <tbody>\n",
       "    <tr>\n",
       "      <th>11</th>\n",
       "      <td>calculatedfinishedsquarefeet x taxvaluedollarcnt</td>\n",
       "      <td>0.552838</td>\n",
       "      <td>0.000000e+00</td>\n",
       "      <td>True</td>\n",
       "    </tr>\n",
       "    <tr>\n",
       "      <th>8</th>\n",
       "      <td>bathroomcnt x taxvaluedollarcnt</td>\n",
       "      <td>0.493155</td>\n",
       "      <td>0.000000e+00</td>\n",
       "      <td>True</td>\n",
       "    </tr>\n",
       "    <tr>\n",
       "      <th>4</th>\n",
       "      <td>bedroomcnt x taxvaluedollarcnt</td>\n",
       "      <td>0.240511</td>\n",
       "      <td>0.000000e+00</td>\n",
       "      <td>True</td>\n",
       "    </tr>\n",
       "    <tr>\n",
       "      <th>13</th>\n",
       "      <td>yearbuilt x taxvaluedollarcnt</td>\n",
       "      <td>0.185270</td>\n",
       "      <td>3.592117e-220</td>\n",
       "      <td>True</td>\n",
       "    </tr>\n",
       "    <tr>\n",
       "      <th>14</th>\n",
       "      <td>lotsizesquarefeet x taxvaluedollarcnt</td>\n",
       "      <td>0.154783</td>\n",
       "      <td>1.717529e-153</td>\n",
       "      <td>True</td>\n",
       "    </tr>\n",
       "  </tbody>\n",
       "</table>\n",
       "</div>"
      ],
      "text/plain": [
       "                                   column1_x_column2         r        p-value  \\\n",
       "11  calculatedfinishedsquarefeet x taxvaluedollarcnt  0.552838   0.000000e+00   \n",
       "8                    bathroomcnt x taxvaluedollarcnt  0.493155   0.000000e+00   \n",
       "4                     bedroomcnt x taxvaluedollarcnt  0.240511   0.000000e+00   \n",
       "13                     yearbuilt x taxvaluedollarcnt  0.185270  3.592117e-220   \n",
       "14             lotsizesquarefeet x taxvaluedollarcnt  0.154783  1.717529e-153   \n",
       "\n",
       "    reject_null  \n",
       "11         True  \n",
       "8          True  \n",
       "4          True  \n",
       "13         True  \n",
       "14         True  "
      ]
     },
     "execution_count": 33,
     "metadata": {},
     "output_type": "execute_result"
    }
   ],
   "source": [
    "r_values = explore.r_values_vars(train)\n",
    "r_values[r_values['column1_x_column2'].str.contains('taxvaluedollarcnt')].sort_values('r', ascending=False)"
   ]
  },
  {
   "cell_type": "markdown",
   "id": "e2e6a8bd",
   "metadata": {},
   "source": [
    "Confirms that these are the highest correlated variables.  Especially `calculatedfinishedsquarefeet` and `bathroomcnt`."
   ]
  },
  {
   "cell_type": "code",
   "execution_count": 35,
   "id": "0a7faae0",
   "metadata": {},
   "outputs": [
    {
     "data": {
      "text/html": [
       "<div>\n",
       "<style scoped>\n",
       "    .dataframe tbody tr th:only-of-type {\n",
       "        vertical-align: middle;\n",
       "    }\n",
       "\n",
       "    .dataframe tbody tr th {\n",
       "        vertical-align: top;\n",
       "    }\n",
       "\n",
       "    .dataframe thead th {\n",
       "        text-align: right;\n",
       "    }\n",
       "</style>\n",
       "<table border=\"1\" class=\"dataframe\">\n",
       "  <thead>\n",
       "    <tr style=\"text-align: right;\">\n",
       "      <th></th>\n",
       "      <th>column1_x_column2</th>\n",
       "      <th>r</th>\n",
       "      <th>p-value</th>\n",
       "      <th>reject_null</th>\n",
       "    </tr>\n",
       "  </thead>\n",
       "  <tbody>\n",
       "    <tr>\n",
       "      <th>0</th>\n",
       "      <td>bedroomcnt x bathroomcnt</td>\n",
       "      <td>0.627306</td>\n",
       "      <td>0.000000e+00</td>\n",
       "      <td>True</td>\n",
       "    </tr>\n",
       "    <tr>\n",
       "      <th>1</th>\n",
       "      <td>bedroomcnt x calculatedfinishedsquarefeet</td>\n",
       "      <td>0.629736</td>\n",
       "      <td>0.000000e+00</td>\n",
       "      <td>True</td>\n",
       "    </tr>\n",
       "    <tr>\n",
       "      <th>2</th>\n",
       "      <td>bedroomcnt x yearbuilt</td>\n",
       "      <td>0.391004</td>\n",
       "      <td>0.000000e+00</td>\n",
       "      <td>True</td>\n",
       "    </tr>\n",
       "    <tr>\n",
       "      <th>3</th>\n",
       "      <td>bedroomcnt x lotsizesquarefeet</td>\n",
       "      <td>0.144145</td>\n",
       "      <td>3.579256e-133</td>\n",
       "      <td>True</td>\n",
       "    </tr>\n",
       "    <tr>\n",
       "      <th>4</th>\n",
       "      <td>bedroomcnt x taxvaluedollarcnt</td>\n",
       "      <td>0.240511</td>\n",
       "      <td>0.000000e+00</td>\n",
       "      <td>True</td>\n",
       "    </tr>\n",
       "    <tr>\n",
       "      <th>5</th>\n",
       "      <td>bathroomcnt x calculatedfinishedsquarefeet</td>\n",
       "      <td>0.843115</td>\n",
       "      <td>0.000000e+00</td>\n",
       "      <td>True</td>\n",
       "    </tr>\n",
       "    <tr>\n",
       "      <th>6</th>\n",
       "      <td>bathroomcnt x yearbuilt</td>\n",
       "      <td>0.536816</td>\n",
       "      <td>0.000000e+00</td>\n",
       "      <td>True</td>\n",
       "    </tr>\n",
       "    <tr>\n",
       "      <th>7</th>\n",
       "      <td>bathroomcnt x lotsizesquarefeet</td>\n",
       "      <td>0.218675</td>\n",
       "      <td>5.166550e-308</td>\n",
       "      <td>True</td>\n",
       "    </tr>\n",
       "    <tr>\n",
       "      <th>8</th>\n",
       "      <td>bathroomcnt x taxvaluedollarcnt</td>\n",
       "      <td>0.493155</td>\n",
       "      <td>0.000000e+00</td>\n",
       "      <td>True</td>\n",
       "    </tr>\n",
       "    <tr>\n",
       "      <th>9</th>\n",
       "      <td>calculatedfinishedsquarefeet x yearbuilt</td>\n",
       "      <td>0.478951</td>\n",
       "      <td>0.000000e+00</td>\n",
       "      <td>True</td>\n",
       "    </tr>\n",
       "    <tr>\n",
       "      <th>10</th>\n",
       "      <td>calculatedfinishedsquarefeet x lotsizesquarefeet</td>\n",
       "      <td>0.292086</td>\n",
       "      <td>0.000000e+00</td>\n",
       "      <td>True</td>\n",
       "    </tr>\n",
       "    <tr>\n",
       "      <th>11</th>\n",
       "      <td>calculatedfinishedsquarefeet x taxvaluedollarcnt</td>\n",
       "      <td>0.552838</td>\n",
       "      <td>0.000000e+00</td>\n",
       "      <td>True</td>\n",
       "    </tr>\n",
       "    <tr>\n",
       "      <th>12</th>\n",
       "      <td>yearbuilt x lotsizesquarefeet</td>\n",
       "      <td>0.097583</td>\n",
       "      <td>1.011795e-61</td>\n",
       "      <td>True</td>\n",
       "    </tr>\n",
       "    <tr>\n",
       "      <th>13</th>\n",
       "      <td>yearbuilt x taxvaluedollarcnt</td>\n",
       "      <td>0.185270</td>\n",
       "      <td>3.592117e-220</td>\n",
       "      <td>True</td>\n",
       "    </tr>\n",
       "    <tr>\n",
       "      <th>14</th>\n",
       "      <td>lotsizesquarefeet x taxvaluedollarcnt</td>\n",
       "      <td>0.154783</td>\n",
       "      <td>1.717529e-153</td>\n",
       "      <td>True</td>\n",
       "    </tr>\n",
       "  </tbody>\n",
       "</table>\n",
       "</div>"
      ],
      "text/plain": [
       "                                   column1_x_column2         r        p-value  \\\n",
       "0                           bedroomcnt x bathroomcnt  0.627306   0.000000e+00   \n",
       "1          bedroomcnt x calculatedfinishedsquarefeet  0.629736   0.000000e+00   \n",
       "2                             bedroomcnt x yearbuilt  0.391004   0.000000e+00   \n",
       "3                     bedroomcnt x lotsizesquarefeet  0.144145  3.579256e-133   \n",
       "4                     bedroomcnt x taxvaluedollarcnt  0.240511   0.000000e+00   \n",
       "5         bathroomcnt x calculatedfinishedsquarefeet  0.843115   0.000000e+00   \n",
       "6                            bathroomcnt x yearbuilt  0.536816   0.000000e+00   \n",
       "7                    bathroomcnt x lotsizesquarefeet  0.218675  5.166550e-308   \n",
       "8                    bathroomcnt x taxvaluedollarcnt  0.493155   0.000000e+00   \n",
       "9           calculatedfinishedsquarefeet x yearbuilt  0.478951   0.000000e+00   \n",
       "10  calculatedfinishedsquarefeet x lotsizesquarefeet  0.292086   0.000000e+00   \n",
       "11  calculatedfinishedsquarefeet x taxvaluedollarcnt  0.552838   0.000000e+00   \n",
       "12                     yearbuilt x lotsizesquarefeet  0.097583   1.011795e-61   \n",
       "13                     yearbuilt x taxvaluedollarcnt  0.185270  3.592117e-220   \n",
       "14             lotsizesquarefeet x taxvaluedollarcnt  0.154783  1.717529e-153   \n",
       "\n",
       "    reject_null  \n",
       "0          True  \n",
       "1          True  \n",
       "2          True  \n",
       "3          True  \n",
       "4          True  \n",
       "5          True  \n",
       "6          True  \n",
       "7          True  \n",
       "8          True  \n",
       "9          True  \n",
       "10         True  \n",
       "11         True  \n",
       "12         True  \n",
       "13         True  \n",
       "14         True  "
      ]
     },
     "execution_count": 35,
     "metadata": {},
     "output_type": "execute_result"
    }
   ],
   "source": [
    "r_values"
   ]
  },
  {
   "cell_type": "code",
   "execution_count": null,
   "id": "cb333d8d",
   "metadata": {},
   "outputs": [],
   "source": []
  }
 ],
 "metadata": {
  "kernelspec": {
   "display_name": "Python 3 (ipykernel)",
   "language": "python",
   "name": "python3"
  },
  "language_info": {
   "codemirror_mode": {
    "name": "ipython",
    "version": 3
   },
   "file_extension": ".py",
   "mimetype": "text/x-python",
   "name": "python",
   "nbconvert_exporter": "python",
   "pygments_lexer": "ipython3",
   "version": "3.9.7"
  }
 },
 "nbformat": 4,
 "nbformat_minor": 5
}
